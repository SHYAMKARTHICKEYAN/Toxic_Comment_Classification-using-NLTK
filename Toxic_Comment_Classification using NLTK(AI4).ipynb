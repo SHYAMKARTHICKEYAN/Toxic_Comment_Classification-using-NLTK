{
  "metadata": {
    "kernelspec": {
      "language": "python",
      "display_name": "Python 3",
      "name": "python3"
    },
    "language_info": {
      "name": "python",
      "version": "3.7.12",
      "mimetype": "text/x-python",
      "codemirror_mode": {
        "name": "ipython",
        "version": 3
      },
      "pygments_lexer": "ipython3",
      "nbconvert_exporter": "python",
      "file_extension": ".py"
    },
    "colab": {
      "provenance": []
    }
  },
  "nbformat_minor": 0,
  "nbformat": 4,
  "cells": [
    {
      "cell_type": "code",
      "source": [
        "from google.colab import drive\n",
        "drive.mount('/content/drive')"
      ],
      "metadata": {
        "colab": {
          "base_uri": "https://localhost:8080/"
        },
        "id": "f-C5i3zQIS5s",
        "outputId": "d7b322c4-8a53-4030-a292-6927c8ffde03"
      },
      "execution_count": null,
      "outputs": [
        {
          "output_type": "stream",
          "name": "stdout",
          "text": [
            "Mounted at /content/drive\n"
          ]
        }
      ]
    },
    {
      "cell_type": "code",
      "source": [
        "import numpy as np\n",
        "import pandas as pd\n",
        "\n",
        "import os\n",
        "for dirname, _, filenames in os.walk('/content/drive/MyDrive'):\n",
        "    for filename in filenames:\n",
        "        print(os.path.join(dirname, filename))"
      ],
      "metadata": {
        "execution": {
          "iopub.status.busy": "2022-12-22T10:08:22.375628Z",
          "iopub.execute_input": "2022-12-22T10:08:22.375978Z",
          "iopub.status.idle": "2022-12-22T10:08:22.402109Z",
          "shell.execute_reply.started": "2022-12-22T10:08:22.375912Z",
          "shell.execute_reply": "2022-12-22T10:08:22.401162Z"
        },
        "trusted": true,
        "colab": {
          "base_uri": "https://localhost:8080/"
        },
        "id": "zZCBWF1xIIYI",
        "outputId": "493fdf95-9084-4f57-ca9b-109981e42343"
      },
      "execution_count": null,
      "outputs": [
        {
          "output_type": "stream",
          "name": "stdout",
          "text": [
            "/content/drive/MyDrive/How to get started with Drive.pdf\n",
            "/content/drive/MyDrive/abalone.csv\n",
            "/content/drive/MyDrive/xgboost.ipynb\n",
            "/content/drive/MyDrive/seeds_dataset.csv\n",
            "/content/drive/MyDrive/lungcancer.csv\n",
            "/content/drive/MyDrive/banknote-authentication_csv.csv\n",
            "/content/drive/MyDrive/creditcard.csv\n",
            "/content/drive/MyDrive/IMDBDataset.csv\n",
            "/content/drive/MyDrive/emojify.zip\n",
            "/content/drive/MyDrive/yelp_labelleds.txt\n",
            "/content/drive/MyDrive/amazon_cells_labelled.txt\n",
            "/content/drive/MyDrive/imdb_labelled.txt\n",
            "/content/drive/MyDrive/articles1.csv\n",
            "/content/drive/MyDrive/Face-Mask-Detection-master.zip\n",
            "/content/drive/MyDrive/face-mask-detector.zip\n",
            "/content/drive/MyDrive/Face-Mask-Detection-master(2).zip\n",
            "/content/drive/MyDrive/facenet_keras.h5\n",
            "/content/drive/MyDrive/index.jpeg\n",
            "/content/drive/MyDrive/modelNweight(1).zip\n",
            "/content/drive/MyDrive/SHYAM (2).zip\n",
            "/content/drive/MyDrive/face_mask_detection-master.zip\n",
            "/content/drive/MyDrive/SHYAM.zip\n",
            "/content/drive/MyDrive/SHYAM (1).zip\n",
            "/content/drive/MyDrive/train_data.pkl\n",
            "/content/drive/MyDrive/tokenizer\n",
            "/content/drive/MyDrive/meta.json\n",
            "/content/drive/MyDrive/config.cfg\n",
            "/content/drive/MyDrive/CVAG.zip\n",
            "/content/drive/MyDrive/AI.zip\n",
            "/content/drive/MyDrive/archive(3).zip\n",
            "/content/drive/MyDrive/Language Detection.csv\n",
            "/content/drive/MyDrive/Questions.csv\n",
            "/content/drive/MyDrive/Detected_Languages.csv\n",
            "/content/drive/MyDrive/Colab Notebooks/winequalityred.csv\n",
            "/content/drive/MyDrive/Colab Notebooks/ABALONE.ipynb\n",
            "/content/drive/MyDrive/Colab Notebooks/SHYAM.ipynb\n",
            "/content/drive/MyDrive/Colab Notebooks/IONOSPHERE PROJECT.ipynb\n",
            "/content/drive/MyDrive/Colab Notebooks/LUNG CANCER PROJECT.ipynb\n",
            "/content/drive/MyDrive/Colab Notebooks/BANK NOTE AUNTHENTICATION.ipynb\n",
            "/content/drive/MyDrive/Colab Notebooks/WHEAT SEED PROJECT.ipynb\n",
            "/content/drive/MyDrive/Colab Notebooks/creditcard fraud detection.csv\n",
            "/content/drive/MyDrive/Colab Notebooks/creditcard.csv\n",
            "/content/drive/MyDrive/Colab Notebooks/Untitled2.ipynb\n",
            "/content/drive/MyDrive/Colab Notebooks/Face_Expression_Detection.ipynb\n",
            "/content/drive/MyDrive/Colab Notebooks/spacy.ipynb\n",
            "/content/drive/MyDrive/Colab Notebooks/WINE QUALITY PROJECT.ipynb\n",
            "/content/drive/MyDrive/Colab Notebooks/Copy of emojify_project_through_graph.ipynb\n",
            "/content/drive/MyDrive/Colab Notebooks/Movies_Review_Classification-checkpoint(friend).ipynb\n",
            "/content/drive/MyDrive/Colab Notebooks/train_data.pkl\n",
            "/content/drive/MyDrive/Colab Notebooks/Corona2.json\n",
            "/content/drive/MyDrive/Colab Notebooks/base_config.cfg\n",
            "/content/drive/MyDrive/Colab Notebooks/training_data.json\n",
            "/content/drive/MyDrive/Colab Notebooks/articles1.csv\n",
            "/content/drive/MyDrive/Colab Notebooks/Copy of Named_Entity_Recognition_NER_using_spaCy - Extracting_Subject_Verb_Action.ipynb\n",
            "/content/drive/MyDrive/Colab Notebooks/english.all.3class.distsim.crf.ser.gz\n",
            "/content/drive/MyDrive/Colab Notebooks/stanford-ner.jar\n",
            "/content/drive/MyDrive/Colab Notebooks/Untitled7.ipynb\n",
            "/content/drive/MyDrive/Colab Notebooks/Untitled0.ipynb\n",
            "/content/drive/MyDrive/Colab Notebooks/Emotion_Classification.ipynb\n",
            "/content/drive/MyDrive/Colab Notebooks/Copy of Movies_Review_Classification-checkpoint(friend).ipynb\n",
            "/content/drive/MyDrive/Colab Notebooks/Copy of Custom NER with Spacy3\n",
            "/content/drive/MyDrive/Colab Notebooks/Untitled1.ipynb\n",
            "/content/drive/MyDrive/Colab Notebooks/emotionModel.hdf5\n",
            "/content/drive/MyDrive/Colab Notebooks/dlib-19.19.0-cp37-cp37m-win_amd64.whl\n",
            "/content/drive/MyDrive/Colab Notebooks/shape_predictor_68_face_landmarks.dat\n",
            "/content/drive/MyDrive/Colab Notebooks/Copy of colab_webcam.ipynb\n",
            "/content/drive/MyDrive/Colab Notebooks/Copy of Movie_review_classificationj.ipynb\n",
            "/content/drive/MyDrive/Colab Notebooks/All Copy of Movie_review_classificationj.ipynb\n",
            "/content/drive/MyDrive/Colab Notebooks/sla.csv\n",
            "/content/drive/MyDrive/Colab Notebooks/Copy of Face Mask Detection(friend).ipynb\n",
            "/content/drive/MyDrive/Colab Notebooks/facenet_keras.h5\n",
            "/content/drive/MyDrive/Colab Notebooks/Copy of FaceRecog with COLAB (2).ipynb\n",
            "/content/drive/MyDrive/Colab Notebooks/image5.jpg\n",
            "/content/drive/MyDrive/Colab Notebooks/Copy of Face_Expression_Detection\n",
            "/content/drive/MyDrive/Colab Notebooks/image3.webp\n",
            "/content/drive/MyDrive/Colab Notebooks/trump.webp\n",
            "/content/drive/MyDrive/Colab Notebooks/girlsmask.jpg\n",
            "/content/drive/MyDrive/Colab Notebooks/haarcascade_frontalface_default.xml\n",
            "/content/drive/MyDrive/Colab Notebooks/EMOTION RECOGNITION.ipynb\n",
            "/content/drive/MyDrive/Colab Notebooks/mask_recog.h5\n",
            "/content/drive/MyDrive/Colab Notebooks/Copy of Copy of Emotion Detection BY SHYAM KARTHICKEYAN - 2.ipynb\n",
            "/content/drive/MyDrive/Colab Notebooks/Copy of BuatSignatureHaar2.ipynb\n",
            "/content/drive/MyDrive/Colab Notebooks/Copy of FaceRecog with COLAB (1).ipynb\n",
            "/content/drive/MyDrive/Colab Notebooks/Copy of FaceRecog with COLAB.ipynb\n",
            "/content/drive/MyDrive/Colab Notebooks/Copy of age&genderDetection by shyam karthickeyan.ipynb\n",
            "/content/drive/MyDrive/Colab Notebooks/resume-parser-with-name-entity-recognition.ipynb\n",
            "/content/drive/MyDrive/Colab Notebooks/Copy of resume-parser-with-name-entity-recognition.ipynb\n",
            "/content/drive/MyDrive/Colab Notebooks/tokenizer\n",
            "/content/drive/MyDrive/Colab Notebooks/meta.json\n",
            "/content/drive/MyDrive/Colab Notebooks/config.cfg\n",
            "/content/drive/MyDrive/Colab Notebooks/Copy of resume-parser-with-name-entity-recognition2.ipynb\n",
            "/content/drive/MyDrive/Colab Notebooks/Copy of 001_Action_Recognition_(UCF101_Dataset).ipynb\n",
            "/content/drive/MyDrive/Colab Notebooks/001_Action_Recognition_(UCF101_Dataset).ipynb\n",
            "/content/drive/MyDrive/Colab Notebooks/Copy of Emotion Detection BY SHYAM KARTHICKEYAN - 2.ipynb\n",
            "/content/drive/MyDrive/Colab Notebooks/Copy of Untitled29.ipynb\n",
            "/content/drive/MyDrive/Colab Notebooks/Movie_review_classificationj.ipynb\n",
            "/content/drive/MyDrive/Colab Notebooks/Copy of Copy of IMDB and Amazon Review Classification with SpaCy.ipynb\n",
            "/content/drive/MyDrive/Colab Notebooks/Untitled3.ipynb\n",
            "/content/drive/MyDrive/Colab Notebooks/SLA.ipynb\n",
            "/content/drive/MyDrive/Colab Notebooks/Untitled4.ipynb\n",
            "/content/drive/MyDrive/Colab Notebooks/toxic-comments-classification.ipynb\n",
            "/content/drive/MyDrive/Colab Notebooks/text-summarization-with-seq2seq-model.ipynb\n",
            "/content/drive/MyDrive/Colab Notebooks/BBC-text-summarization.ipynb\n",
            "/content/drive/MyDrive/Colab Notebooks/my first ai -food-review-text-summarization.ipynb\n",
            "/content/drive/MyDrive/Colab Notebooks/Copy of my first ai -food-review-text-summarization.ipynb\n",
            "/content/drive/MyDrive/Colab Notebooks/Copy of ai2-topic-modelling-with-spacy-and-scikit-learn.ipynb\n",
            "/content/drive/MyDrive/Colab Notebooks/great ai language-detection-using-nlp.ipynb\n",
            "/content/drive/MyDrive/Colab Notebooks/Copy of great ai language-detection-using-nlp.ipynb\n",
            "/content/drive/MyDrive/Colab Notebooks/Copy of my great project texts-summarizing-with-the-help-of-spacy.ipynb\n",
            "/content/drive/MyDrive/Colab Notebooks/my great project texts-summarizing-with-the-help-of-spacy.ipynb\n",
            "/content/drive/MyDrive/Colab Notebooks/greatest ai project nlp-text-summarizer-using-spacy.ipynb\n",
            "/content/drive/MyDrive/Colab Notebooks/Copy of greatest ai project nlp-text-summarizer-using-spacy.ipynb\n",
            "/content/drive/MyDrive/Colab Notebooks/Copy of IMDB and Amazon Review Classification with SpaCy.ipynb\n",
            "/content/drive/MyDrive/Colab Notebooks/language-detection-using-spacy.ipynb\n",
            "/content/drive/MyDrive/Colab Notebooks/great ai language detection project the great.ipynb\n",
            "/content/drive/MyDrive/Colab Notebooks/ai2-topic-modelling-with-spacy-and-scikit-learn.ipynb\n",
            "/content/drive/MyDrive/Colab Notebooks/toxic-comment-classification.ipynb\n",
            "/content/drive/MyDrive/Colab Notebooks/Emotion-detection/LICENSE\n",
            "/content/drive/MyDrive/Colab Notebooks/Emotion-detection/README.md\n",
            "/content/drive/MyDrive/Colab Notebooks/Emotion-detection/requirements.txt\n",
            "/content/drive/MyDrive/Colab Notebooks/Emotion-detection/trump.webp\n",
            "/content/drive/MyDrive/Colab Notebooks/Emotion-detection/girlinmask.jpg\n",
            "/content/drive/MyDrive/Colab Notebooks/Emotion-detection/imgs/accuracy.png\n",
            "/content/drive/MyDrive/Colab Notebooks/Emotion-detection/src/dataset_prepare.py\n",
            "/content/drive/MyDrive/Colab Notebooks/Emotion-detection/src/haarcascade_frontalface_default.xml\n",
            "/content/drive/MyDrive/Colab Notebooks/Emotion-detection/src/emotions.py\n",
            "/content/drive/MyDrive/Colab Notebooks/Emotion-detection/.git/description\n",
            "/content/drive/MyDrive/Colab Notebooks/Emotion-detection/.git/config\n",
            "/content/drive/MyDrive/Colab Notebooks/Emotion-detection/.git/HEAD\n",
            "/content/drive/MyDrive/Colab Notebooks/Emotion-detection/.git/packed-refs\n",
            "/content/drive/MyDrive/Colab Notebooks/Emotion-detection/.git/index\n",
            "/content/drive/MyDrive/Colab Notebooks/Emotion-detection/.git/hooks/update.sample\n",
            "/content/drive/MyDrive/Colab Notebooks/Emotion-detection/.git/hooks/pre-applypatch.sample\n",
            "/content/drive/MyDrive/Colab Notebooks/Emotion-detection/.git/hooks/pre-receive.sample\n",
            "/content/drive/MyDrive/Colab Notebooks/Emotion-detection/.git/hooks/pre-rebase.sample\n",
            "/content/drive/MyDrive/Colab Notebooks/Emotion-detection/.git/hooks/fsmonitor-watchman.sample\n",
            "/content/drive/MyDrive/Colab Notebooks/Emotion-detection/.git/hooks/prepare-commit-msg.sample\n",
            "/content/drive/MyDrive/Colab Notebooks/Emotion-detection/.git/hooks/post-update.sample\n",
            "/content/drive/MyDrive/Colab Notebooks/Emotion-detection/.git/hooks/applypatch-msg.sample\n",
            "/content/drive/MyDrive/Colab Notebooks/Emotion-detection/.git/hooks/pre-commit.sample\n",
            "/content/drive/MyDrive/Colab Notebooks/Emotion-detection/.git/hooks/commit-msg.sample\n",
            "/content/drive/MyDrive/Colab Notebooks/Emotion-detection/.git/hooks/pre-push.sample\n",
            "/content/drive/MyDrive/Colab Notebooks/Emotion-detection/.git/info/exclude\n",
            "/content/drive/MyDrive/Colab Notebooks/Emotion-detection/.git/objects/pack/pack-02672eaaf82f9d36eb596113497e3d2bd33e166e.pack\n",
            "/content/drive/MyDrive/Colab Notebooks/Emotion-detection/.git/objects/pack/pack-02672eaaf82f9d36eb596113497e3d2bd33e166e.idx\n",
            "/content/drive/MyDrive/Colab Notebooks/Emotion-detection/.git/refs/heads/master\n",
            "/content/drive/MyDrive/Colab Notebooks/Emotion-detection/.git/refs/remotes/origin/HEAD\n",
            "/content/drive/MyDrive/Colab Notebooks/Emotion-detection/.git/logs/HEAD\n",
            "/content/drive/MyDrive/Colab Notebooks/Emotion-detection/.git/logs/refs/heads/master\n",
            "/content/drive/MyDrive/Colab Notebooks/Emotion-detection/.git/logs/refs/remotes/origin/HEAD\n",
            "/content/drive/MyDrive/Colab Notebooks/Emotion-detection/Emotion-detection/LICENSE\n",
            "/content/drive/MyDrive/Colab Notebooks/Emotion-detection/Emotion-detection/README.md\n",
            "/content/drive/MyDrive/Colab Notebooks/Emotion-detection/Emotion-detection/requirements.txt\n",
            "/content/drive/MyDrive/Colab Notebooks/Emotion-detection/Emotion-detection/Modelv.h5\n",
            "/content/drive/MyDrive/Colab Notebooks/Emotion-detection/Emotion-detection/haarcascade_frontalface_default.xml\n",
            "/content/drive/MyDrive/Colab Notebooks/Emotion-detection/Emotion-detection/image1.jpeg\n",
            "/content/drive/MyDrive/Colab Notebooks/Emotion-detection/Emotion-detection/src/dataset_prepare.py\n",
            "/content/drive/MyDrive/Colab Notebooks/Emotion-detection/Emotion-detection/src/haarcascade_frontalface_default.xml\n",
            "/content/drive/MyDrive/Colab Notebooks/Emotion-detection/Emotion-detection/src/emotions.py\n",
            "/content/drive/MyDrive/Colab Notebooks/Emotion-detection/Emotion-detection/.git/config\n",
            "/content/drive/MyDrive/Colab Notebooks/Emotion-detection/Emotion-detection/.git/HEAD\n",
            "/content/drive/MyDrive/Colab Notebooks/Emotion-detection/Emotion-detection/.git/packed-refs\n",
            "/content/drive/MyDrive/Colab Notebooks/Emotion-detection/Emotion-detection/.git/description\n",
            "/content/drive/MyDrive/Colab Notebooks/Emotion-detection/Emotion-detection/.git/index\n",
            "/content/drive/MyDrive/Colab Notebooks/Emotion-detection/Emotion-detection/.git/info/exclude\n",
            "/content/drive/MyDrive/Colab Notebooks/Emotion-detection/Emotion-detection/.git/logs/HEAD\n",
            "/content/drive/MyDrive/Colab Notebooks/Emotion-detection/Emotion-detection/.git/logs/refs/remotes/origin/HEAD\n",
            "/content/drive/MyDrive/Colab Notebooks/Emotion-detection/Emotion-detection/.git/logs/refs/heads/master\n",
            "/content/drive/MyDrive/Colab Notebooks/Emotion-detection/Emotion-detection/.git/objects/pack/pack-02672eaaf82f9d36eb596113497e3d2bd33e166e.idx\n",
            "/content/drive/MyDrive/Colab Notebooks/Emotion-detection/Emotion-detection/.git/objects/pack/pack-02672eaaf82f9d36eb596113497e3d2bd33e166e.pack\n",
            "/content/drive/MyDrive/Colab Notebooks/Emotion-detection/Emotion-detection/.git/refs/heads/master\n",
            "/content/drive/MyDrive/Colab Notebooks/Emotion-detection/Emotion-detection/.git/refs/remotes/origin/HEAD\n",
            "/content/drive/MyDrive/Colab Notebooks/Emotion-detection/Emotion-detection/.git/hooks/applypatch-msg.sample\n",
            "/content/drive/MyDrive/Colab Notebooks/Emotion-detection/Emotion-detection/.git/hooks/commit-msg.sample\n",
            "/content/drive/MyDrive/Colab Notebooks/Emotion-detection/Emotion-detection/.git/hooks/pre-rebase.sample\n",
            "/content/drive/MyDrive/Colab Notebooks/Emotion-detection/Emotion-detection/.git/hooks/update.sample\n",
            "/content/drive/MyDrive/Colab Notebooks/Emotion-detection/Emotion-detection/.git/hooks/post-update.sample\n",
            "/content/drive/MyDrive/Colab Notebooks/Emotion-detection/Emotion-detection/.git/hooks/pre-receive.sample\n",
            "/content/drive/MyDrive/Colab Notebooks/Emotion-detection/Emotion-detection/.git/hooks/pre-commit.sample\n",
            "/content/drive/MyDrive/Colab Notebooks/Emotion-detection/Emotion-detection/.git/hooks/fsmonitor-watchman.sample\n",
            "/content/drive/MyDrive/Colab Notebooks/Emotion-detection/Emotion-detection/.git/hooks/pre-push.sample\n",
            "/content/drive/MyDrive/Colab Notebooks/Emotion-detection/Emotion-detection/.git/hooks/pre-applypatch.sample\n",
            "/content/drive/MyDrive/Colab Notebooks/Emotion-detection/Emotion-detection/.git/hooks/prepare-commit-msg.sample\n",
            "/content/drive/MyDrive/Colab Notebooks/Emotion-detection/Emotion-detection/imgs/accuracy.png\n",
            "/content/drive/MyDrive/Colab Notebooks/ner/Smith Resume.pdf\n",
            "/content/drive/MyDrive/Colab Notebooks/ner/model\n",
            "/content/drive/MyDrive/Colab Notebooks/ner/moves\n",
            "/content/drive/MyDrive/Colab Notebooks/ner/cfg\n",
            "/content/drive/MyDrive/Colab Notebooks/vocab/strings.json\n",
            "/content/drive/MyDrive/Colab Notebooks/vocab/key2row\n",
            "/content/drive/MyDrive/Colab Notebooks/vocab/vectors\n",
            "/content/drive/MyDrive/Colab Notebooks/vocab/lookups.bin\n",
            "/content/drive/MyDrive/Colab Notebooks/vocab/vectors.cfg\n",
            "/content/drive/MyDrive/Colab Notebooks/nlp_ner_model/tokenizer\n",
            "/content/drive/MyDrive/Colab Notebooks/nlp_ner_model/config.cfg\n",
            "/content/drive/MyDrive/Colab Notebooks/nlp_ner_model/meta.json\n",
            "/content/drive/MyDrive/Colab Notebooks/nlp_ner_model/vocab/strings.json\n",
            "/content/drive/MyDrive/Colab Notebooks/nlp_ner_model/vocab/vectors\n",
            "/content/drive/MyDrive/Colab Notebooks/nlp_ner_model/vocab/key2row\n",
            "/content/drive/MyDrive/Colab Notebooks/nlp_ner_model/vocab/vectors.cfg\n",
            "/content/drive/MyDrive/Colab Notebooks/nlp_ner_model/vocab/lookups.bin\n",
            "/content/drive/MyDrive/Colab Notebooks/nlp_ner_model/ner/Xinni_Chng.pdf\n",
            "/content/drive/MyDrive/Colab Notebooks/nlp_ner_model/ner/tokenizer\n",
            "/content/drive/MyDrive/Colab Notebooks/nlp_ner_model/ner/config.cfg\n",
            "/content/drive/MyDrive/Colab Notebooks/nlp_ner_model/ner/meta.json\n",
            "/content/drive/MyDrive/Colab Notebooks/nlp_ner_model/ner/moves\n",
            "/content/drive/MyDrive/Colab Notebooks/nlp_ner_model/ner/model\n",
            "/content/drive/MyDrive/Colab Notebooks/nlp_ner_model/ner/cfg\n",
            "/content/drive/MyDrive/Colab Notebooks/nlp_ner_model/ner/ner/cfg\n",
            "/content/drive/MyDrive/Colab Notebooks/nlp_ner_model/ner/ner/moves\n",
            "/content/drive/MyDrive/Colab Notebooks/nlp_ner_model/ner/ner/model\n",
            "/content/drive/MyDrive/Colab Notebooks/nlp_ner_model/ner/vocab/lookups.bin\n",
            "/content/drive/MyDrive/Colab Notebooks/nlp_ner_model/ner/vocab/key2row\n",
            "/content/drive/MyDrive/Colab Notebooks/nlp_ner_model/ner/vocab/vectors.cfg\n",
            "/content/drive/MyDrive/Colab Notebooks/nlp_ner_model/ner/vocab/strings.json\n",
            "/content/drive/MyDrive/Colab Notebooks/nlp_ner_model/ner/vocab/vectors\n",
            "/content/drive/MyDrive/face_emotion_detection/movie_review/Movie_review_classificationj.ipynb\n",
            "/content/drive/MyDrive/face_emotion_detection/movie_review/movie_review_data.zip\n",
            "/content/drive/MyDrive/data/angry/im1.png\n",
            "/content/drive/MyDrive/data/angry/im100.png\n",
            "/content/drive/MyDrive/data/angry/im1004.png\n",
            "/content/drive/MyDrive/data/angry/im0.png\n",
            "/content/drive/MyDrive/data/angry/im1007.png\n",
            "/content/drive/MyDrive/data/angry/im10.png\n",
            "/content/drive/MyDrive/data/angry/im1005.png\n",
            "/content/drive/MyDrive/data/angry/im1006.png\n",
            "/content/drive/MyDrive/data/angry/im1001.png\n",
            "/content/drive/MyDrive/data/angry/im1000.png\n",
            "/content/drive/MyDrive/data/angry/im1003.png\n",
            "/content/drive/MyDrive/data/angry/im1002.png\n",
            "/content/drive/MyDrive/data/angry/im1013.png\n",
            "/content/drive/MyDrive/data/angry/im101.png\n",
            "/content/drive/MyDrive/data/angry/im1012.png\n",
            "/content/drive/MyDrive/data/angry/im1009.png\n",
            "/content/drive/MyDrive/data/angry/im1011.png\n",
            "/content/drive/MyDrive/data/angry/im1010.png\n",
            "/content/drive/MyDrive/data/angry/im1014.png\n",
            "/content/drive/MyDrive/data/angry/im1008.png\n",
            "/content/drive/MyDrive/datas/with_mask/with_mask_1003.jpg\n",
            "/content/drive/MyDrive/datas/with_mask/with_mask_1001.jpg\n",
            "/content/drive/MyDrive/datas/with_mask/with_mask_1002.jpg\n",
            "/content/drive/MyDrive/datas/with_mask/with_mask_10.jpg\n",
            "/content/drive/MyDrive/datas/with_mask/with_mask_1.jpg\n",
            "/content/drive/MyDrive/datas/with_mask/with_mask_100.jpg\n",
            "/content/drive/MyDrive/datas/with_mask/with_mask_1000.jpg\n",
            "/content/drive/MyDrive/datas/with_mask/with_mask_1005.jpg\n",
            "/content/drive/MyDrive/datas/with_mask/with_mask_1004.jpg\n",
            "/content/drive/MyDrive/datas/with_mask/with_mask_1016.jpg\n",
            "/content/drive/MyDrive/datas/with_mask/with_mask_1008.jpg\n",
            "/content/drive/MyDrive/datas/with_mask/with_mask_1012.jpg\n",
            "/content/drive/MyDrive/datas/with_mask/with_mask_1011.jpg\n",
            "/content/drive/MyDrive/datas/with_mask/with_mask_1007.jpg\n",
            "/content/drive/MyDrive/datas/with_mask/with_mask_1010.jpg\n",
            "/content/drive/MyDrive/datas/with_mask/with_mask_1015.jpg\n",
            "/content/drive/MyDrive/datas/with_mask/with_mask_1006.jpg\n",
            "/content/drive/MyDrive/datas/with_mask/with_mask_101.jpg\n",
            "/content/drive/MyDrive/datas/with_mask/with_mask_1017.jpg\n",
            "/content/drive/MyDrive/datas/with_mask/with_mask_1014.jpg\n",
            "/content/drive/MyDrive/datas/with_mask/with_mask_1013.jpg\n",
            "/content/drive/MyDrive/datas/with_mask/with_mask_1009.jpg\n",
            "/content/drive/MyDrive/datas/with_mask/with_mask_1018.jpg\n",
            "/content/drive/MyDrive/datas/with_mask/with_mask_1020.jpg\n",
            "/content/drive/MyDrive/datas/with_mask/with_mask_1035.jpg\n",
            "/content/drive/MyDrive/datas/with_mask/with_mask_1027.jpg\n",
            "/content/drive/MyDrive/datas/with_mask/with_mask_1034.jpg\n",
            "/content/drive/MyDrive/datas/with_mask/with_mask_1029.jpg\n",
            "/content/drive/MyDrive/datas/with_mask/with_mask_1021.jpg\n",
            "/content/drive/MyDrive/datas/with_mask/with_mask_1041.jpg\n",
            "/content/drive/MyDrive/datas/with_mask/with_mask_1026.jpg\n",
            "/content/drive/MyDrive/datas/with_mask/with_mask_1028.jpg\n",
            "/content/drive/MyDrive/datas/with_mask/with_mask_1019.jpg\n",
            "/content/drive/MyDrive/datas/with_mask/with_mask_1030.jpg\n",
            "/content/drive/MyDrive/datas/with_mask/with_mask_1024.jpg\n",
            "/content/drive/MyDrive/datas/with_mask/with_mask_1037.jpg\n",
            "/content/drive/MyDrive/datas/with_mask/with_mask_102.jpg\n",
            "/content/drive/MyDrive/datas/with_mask/with_mask_1040.jpg\n",
            "/content/drive/MyDrive/datas/with_mask/with_mask_1042.jpg\n",
            "/content/drive/MyDrive/datas/with_mask/with_mask_1039.jpg\n",
            "/content/drive/MyDrive/datas/with_mask/with_mask_1022.jpg\n",
            "/content/drive/MyDrive/datas/with_mask/with_mask_104.jpg\n",
            "/content/drive/MyDrive/datas/with_mask/with_mask_1043.jpg\n",
            "/content/drive/MyDrive/datas/with_mask/with_mask_1023.jpg\n",
            "/content/drive/MyDrive/datas/with_mask/with_mask_1032.jpg\n",
            "/content/drive/MyDrive/datas/with_mask/with_mask_1038.jpg\n",
            "/content/drive/MyDrive/datas/with_mask/with_mask_1025.jpg\n",
            "/content/drive/MyDrive/datas/with_mask/with_mask_1033.jpg\n",
            "/content/drive/MyDrive/datas/with_mask/with_mask_1044.jpg\n",
            "/content/drive/MyDrive/datas/with_mask/with_mask_103.jpg\n",
            "/content/drive/MyDrive/datas/with_mask/with_mask_1031.jpg\n",
            "/content/drive/MyDrive/datas/with_mask/with_mask_1036.jpg\n",
            "/content/drive/MyDrive/datas/with_mask/with_mask_1054.jpg\n",
            "/content/drive/MyDrive/datas/with_mask/with_mask_1065.jpg\n",
            "/content/drive/MyDrive/datas/with_mask/with_mask_1050.jpg\n",
            "/content/drive/MyDrive/datas/with_mask/with_mask_1052.jpg\n",
            "/content/drive/MyDrive/datas/with_mask/with_mask_1066.jpg\n",
            "/content/drive/MyDrive/datas/with_mask/with_mask_1057.jpg\n",
            "/content/drive/MyDrive/datas/with_mask/with_mask_1060.jpg\n",
            "/content/drive/MyDrive/datas/with_mask/with_mask_1045.jpg\n",
            "/content/drive/MyDrive/datas/with_mask/with_mask_1051.jpg\n",
            "/content/drive/MyDrive/datas/with_mask/with_mask_1049.jpg\n",
            "/content/drive/MyDrive/datas/with_mask/with_mask_105.jpg\n",
            "/content/drive/MyDrive/datas/with_mask/with_mask_1053.jpg\n",
            "/content/drive/MyDrive/datas/with_mask/with_mask_1056.jpg\n",
            "/content/drive/MyDrive/datas/with_mask/with_mask_1061.jpg\n",
            "/content/drive/MyDrive/datas/with_mask/with_mask_1064.jpg\n",
            "/content/drive/MyDrive/datas/with_mask/with_mask_1055.jpg\n",
            "/content/drive/MyDrive/datas/with_mask/with_mask_1067.jpg\n",
            "/content/drive/MyDrive/datas/with_mask/with_mask_1046.jpg\n",
            "/content/drive/MyDrive/datas/with_mask/with_mask_1062.jpg\n",
            "/content/drive/MyDrive/datas/with_mask/with_mask_1048.jpg\n",
            "/content/drive/MyDrive/datas/with_mask/with_mask_1063.jpg\n",
            "/content/drive/MyDrive/datas/with_mask/with_mask_1058.jpg\n",
            "/content/drive/MyDrive/datas/with_mask/with_mask_1047.jpg\n",
            "/content/drive/MyDrive/datas/with_mask/with_mask_1059.jpg\n",
            "/content/drive/MyDrive/datas/with_mask/with_mask_106.jpg\n",
            "/content/drive/MyDrive/datas/with_mask/with_mask_1071.jpg\n",
            "/content/drive/MyDrive/datas/with_mask/with_mask_1070.jpg\n",
            "/content/drive/MyDrive/datas/with_mask/with_mask_1077.jpg\n",
            "/content/drive/MyDrive/datas/with_mask/with_mask_1069.jpg\n",
            "/content/drive/MyDrive/datas/with_mask/with_mask_1076.jpg\n",
            "/content/drive/MyDrive/datas/with_mask/with_mask_1075.jpg\n",
            "/content/drive/MyDrive/datas/with_mask/with_mask_1072.jpg\n",
            "/content/drive/MyDrive/datas/with_mask/with_mask_108.jpg\n",
            "/content/drive/MyDrive/datas/with_mask/with_mask_1079.jpg\n",
            "/content/drive/MyDrive/datas/with_mask/with_mask_107.jpg\n",
            "/content/drive/MyDrive/datas/with_mask/with_mask_1074.jpg\n",
            "/content/drive/MyDrive/datas/with_mask/with_mask_1073.jpg\n",
            "/content/drive/MyDrive/datas/with_mask/with_mask_1068.jpg\n",
            "/content/drive/MyDrive/datas/with_mask/with_mask_1078.jpg\n",
            "/content/drive/MyDrive/datas/with_mask/with_mask_1080.jpg\n",
            "/content/drive/MyDrive/datas/with_mask/with_mask_1081.jpg\n",
            "/content/drive/MyDrive/datas/with_mask/with_mask_1086.jpg\n",
            "/content/drive/MyDrive/datas/with_mask/with_mask_1083.jpg\n",
            "/content/drive/MyDrive/datas/with_mask/with_mask_1084.jpg\n",
            "/content/drive/MyDrive/datas/with_mask/with_mask_1085.jpg\n",
            "/content/drive/MyDrive/datas/with_mask/with_mask_1082.jpg\n",
            "/content/drive/MyDrive/Face-Mask-Detection-master (1)/_config.yml\n",
            "/content/drive/MyDrive/Face-Mask-Detection-master (1)/README - Korean.md\n",
            "/content/drive/MyDrive/Face-Mask-Detection-master (1)/CODE_OF_CONDUCT.md\n",
            "/content/drive/MyDrive/Face-Mask-Detection-master (1)/detect_mask_video.py\n",
            "/content/drive/MyDrive/Face-Mask-Detection-master (1)/.gitignore\n",
            "/content/drive/MyDrive/Face-Mask-Detection-master (1)/Windows_guide.md\n",
            "/content/drive/MyDrive/Face-Mask-Detection-master (1)/CONTRIBUTING.md\n",
            "/content/drive/MyDrive/Face-Mask-Detection-master (1)/CITATION.cff\n",
            "/content/drive/MyDrive/Face-Mask-Detection-master (1)/app.py\n",
            "/content/drive/MyDrive/Face-Mask-Detection-master (1)/detect_mask_image.py\n",
            "/content/drive/MyDrive/Face-Mask-Detection-master (1)/LICENSE\n",
            "/content/drive/MyDrive/Face-Mask-Detection-master (1)/README.md\n",
            "/content/drive/MyDrive/Face-Mask-Detection-master/CODE_OF_CONDUCT.md\n",
            "/content/drive/MyDrive/Face-Mask-Detection-master/.gitignore\n",
            "/content/drive/MyDrive/Face-Mask-Detection-master/train_mask_detector.py\n",
            "/content/drive/MyDrive/Face-Mask-Detection-master/_config.yml\n",
            "/content/drive/MyDrive/Face-Mask-Detection-master/app.py\n",
            "/content/drive/MyDrive/Face-Mask-Detection-master/README - Korean.md\n",
            "/content/drive/MyDrive/Face-Mask-Detection-master/CONTRIBUTING.md\n",
            "/content/drive/MyDrive/Face-Mask-Detection-master/model2onnx.py\n",
            "/content/drive/MyDrive/Face-Mask-Detection-master/Windows_guide.md\n",
            "/content/drive/MyDrive/Face-Mask-Detection-master/detect_mask_image.py\n",
            "/content/drive/MyDrive/Face-Mask-Detection-master/LICENSE\n",
            "/content/drive/MyDrive/Face-Mask-Detection-master/README.md\n",
            "/content/drive/MyDrive/Face-Mask-Detection-master/search.py\n",
            "/content/drive/MyDrive/Face-Mask-Detection-master/detect_mask_video.py\n",
            "/content/drive/MyDrive/Face-Mask-Detection-master/CITATION.cff\n",
            "/content/drive/MyDrive/Face-Mask-Detection-master/.github/auto_assign.yml\n",
            "/content/drive/MyDrive/Face-Mask-Detection-master/.github/config.yml\n",
            "/content/drive/MyDrive/Face-Mask-Detection-master/.github/FUNDING.yml\n",
            "/content/drive/MyDrive/Face-Mask-Detection-master/.github/pull_request_template.md\n",
            "/content/drive/MyDrive/Face-Mask-Detection-master/Logo/facemaskdetection.ai @ 51.06% (CMYK_GPU Preview)  18-02-2021 18_33_18 (2).png\n",
            "/content/drive/MyDrive/Face-Mask-Detection-master/Readme_images/Screenshot 2020-06-01 at 9.48.27 PM.PNG\n",
            "/content/drive/MyDrive/Face-Mask-Detection-master/Readme_images/nn.jpeg\n",
            "/content/drive/MyDrive/Face-Mask-Detection-master/Readme_images/1.PNG\n",
            "/content/drive/MyDrive/Face-Mask-Detection-master/Readme_images/Screenshot 2020-06-01 at 9.48.27 PM.png\n",
            "/content/drive/MyDrive/Face-Mask-Detection-master/Readme_images/Student code-in.png\n",
            "/content/drive/MyDrive/Face-Mask-Detection-master/Age-And-Gender-Detection/1.jpg\n",
            "/content/drive/MyDrive/Face-Mask-Detection-master/Age-And-Gender-Detection/4.jpg\n",
            "/content/drive/MyDrive/Face-Mask-Detection-master/Age-And-Gender-Detection/3.jpg\n",
            "/content/drive/MyDrive/Face-Mask-Detection-master/Age-And-Gender-Detection/2.jpg\n",
            "/content/drive/MyDrive/Face-Mask-Detection-master/Age-And-Gender-Detection/6.jpg\n",
            "/content/drive/MyDrive/Face-Mask-Detection-master/Age-And-Gender-Detection/Age_And_Gender_Detection.ipynb\n",
            "/content/drive/MyDrive/Face-Mask-Detection-master/Age-And-Gender-Detection/5.jpg\n",
            "/content/drive/MyDrive/Face-Mask-Detection-master/Age-And-Gender-Detection/README.md\n",
            "/content/drive/MyDrive/Face-Mask-Detection-master/Age-And-Gender-Detection/SS/2.PNG\n",
            "/content/drive/MyDrive/Face-Mask-Detection-master/Age-And-Gender-Detection/SS/1.PNG\n",
            "/content/drive/MyDrive/Face-Mask-Detection-master/Age-And-Gender-Detection/SS/3.PNG\n",
            "/content/drive/MyDrive/Face-Mask-Detection-master/Age-And-Gender-Detection/.git/description\n",
            "/content/drive/MyDrive/Face-Mask-Detection-master/Age-And-Gender-Detection/.git/index\n",
            "/content/drive/MyDrive/Face-Mask-Detection-master/Age-And-Gender-Detection/.git/packed-refs\n",
            "/content/drive/MyDrive/Face-Mask-Detection-master/Age-And-Gender-Detection/.git/config\n",
            "/content/drive/MyDrive/Face-Mask-Detection-master/Age-And-Gender-Detection/.git/HEAD\n",
            "/content/drive/MyDrive/Face-Mask-Detection-master/Age-And-Gender-Detection/.git/hooks/pre-commit.sample\n",
            "/content/drive/MyDrive/Face-Mask-Detection-master/Age-And-Gender-Detection/.git/hooks/prepare-commit-msg.sample\n",
            "/content/drive/MyDrive/Face-Mask-Detection-master/Age-And-Gender-Detection/.git/hooks/pre-rebase.sample\n",
            "/content/drive/MyDrive/Face-Mask-Detection-master/Age-And-Gender-Detection/.git/hooks/fsmonitor-watchman.sample\n",
            "/content/drive/MyDrive/Face-Mask-Detection-master/Age-And-Gender-Detection/.git/hooks/applypatch-msg.sample\n",
            "/content/drive/MyDrive/Face-Mask-Detection-master/Age-And-Gender-Detection/.git/hooks/pre-receive.sample\n",
            "/content/drive/MyDrive/Face-Mask-Detection-master/Age-And-Gender-Detection/.git/hooks/commit-msg.sample\n",
            "/content/drive/MyDrive/Face-Mask-Detection-master/Age-And-Gender-Detection/.git/hooks/post-update.sample\n",
            "/content/drive/MyDrive/Face-Mask-Detection-master/Age-And-Gender-Detection/.git/hooks/update.sample\n",
            "/content/drive/MyDrive/Face-Mask-Detection-master/Age-And-Gender-Detection/.git/hooks/pre-applypatch.sample\n",
            "/content/drive/MyDrive/Face-Mask-Detection-master/Age-And-Gender-Detection/.git/hooks/pre-push.sample\n",
            "/content/drive/MyDrive/Face-Mask-Detection-master/Age-And-Gender-Detection/.git/info/exclude\n",
            "/content/drive/MyDrive/Face-Mask-Detection-master/Age-And-Gender-Detection/.git/refs/heads/main\n",
            "/content/drive/MyDrive/Face-Mask-Detection-master/Age-And-Gender-Detection/.git/refs/remotes/origin/HEAD\n",
            "/content/drive/MyDrive/Face-Mask-Detection-master/Age-And-Gender-Detection/.git/logs/HEAD\n",
            "/content/drive/MyDrive/Face-Mask-Detection-master/Age-And-Gender-Detection/.git/logs/refs/heads/main\n",
            "/content/drive/MyDrive/Face-Mask-Detection-master/Age-And-Gender-Detection/.git/logs/refs/remotes/origin/HEAD\n",
            "/content/drive/MyDrive/Face-Mask-Detection-master/Age-And-Gender-Detection/.git/objects/4e/7d451c98589002dad759f9ac86d512052b08e9\n",
            "/content/drive/MyDrive/Face-Mask-Detection-master/Age-And-Gender-Detection/.git/objects/cb/b3679b277f617c13338b5ba7e4b00341f25258\n",
            "/content/drive/MyDrive/Face-Mask-Detection-master/Age-And-Gender-Detection/.git/objects/59/31eb3b05f203c97ba76036a282fbb52ed03680\n",
            "/content/drive/MyDrive/Face-Mask-Detection-master/Age-And-Gender-Detection/.git/objects/9b/da53a5bac226c9718757bff7a01e4e980041fd\n",
            "/content/drive/MyDrive/Face-Mask-Detection-master/Age-And-Gender-Detection/.git/objects/08/c814d4eaa984997e302f0b4111e5c7166ea2e7\n",
            "/content/drive/MyDrive/Face-Mask-Detection-master/Age-And-Gender-Detection/.git/objects/2e/2eeab2787d111a5615dfad2452bdcdaaf80893\n",
            "/content/drive/MyDrive/Face-Mask-Detection-master/Age-And-Gender-Detection/.git/objects/7e/9737ab856587572dc9e496c3e307ba40a3b87f\n",
            "/content/drive/MyDrive/Face-Mask-Detection-master/Age-And-Gender-Detection/.git/objects/84/8b564180c90b1d050c5562d9b90cbcdcf58e4a\n",
            "/content/drive/MyDrive/Face-Mask-Detection-master/Age-And-Gender-Detection/.git/objects/ab/652325324f005664bde6998467bab3b042dfe2\n",
            "/content/drive/MyDrive/Face-Mask-Detection-master/Age-And-Gender-Detection/.git/objects/40/393e3e5a3d4419ead3f3d026e90c950963b49c\n",
            "/content/drive/MyDrive/Face-Mask-Detection-master/Age-And-Gender-Detection/.git/objects/a9/a6bb7f65af5d6ed2abf84c99745b8492ecf641\n",
            "/content/drive/MyDrive/Face-Mask-Detection-master/Age-And-Gender-Detection/.git/objects/fc/be78bb19c19f48806b3cc7b45c9afaf83ce066\n",
            "/content/drive/MyDrive/Face-Mask-Detection-master/Age-And-Gender-Detection/.git/objects/a8/7bb985cf01c9436974d708251fe8686e28f50b\n",
            "/content/drive/MyDrive/Face-Mask-Detection-master/Age-And-Gender-Detection/.git/objects/a8/12e041ec3feb98e9da97a1ce604bf5b0643a8f\n",
            "/content/drive/MyDrive/Face-Mask-Detection-master/Age-And-Gender-Detection/.git/objects/d8/3d13ebd96dedbcabea58e4df4ac305a7ad595b\n",
            "/content/drive/MyDrive/Face-Mask-Detection-master/Age-And-Gender-Detection/.git/objects/82/015c924f584afe7950a03693c3dcf133879e36\n",
            "/content/drive/MyDrive/Face-Mask-Detection-master/Age-And-Gender-Detection/.git/objects/14/d8da6350fdbfb67586a9d3b7e2bdbe5909f29a\n",
            "/content/drive/MyDrive/Face-Mask-Detection-master/Age-And-Gender-Detection/.git/objects/17/9b04b2033e755809979aee74101033333e1ad7\n",
            "/content/drive/MyDrive/Face-Mask-Detection-master/Age-And-Gender-Detection/.git/objects/97/07d877c9e4031e17b9379b8f3b9eda6ce9e419\n",
            "/content/drive/MyDrive/Face-Mask-Detection-master/Age-And-Gender-Detection/.git/objects/97/b2b5a2d8c3971f6bb64d547327bfb8d4affac4\n",
            "/content/drive/MyDrive/Face-Mask-Detection-master/Age-And-Gender-Detection/.git/objects/4d/6a72bca9cb90a2f20afa26afd0b3c0dd3b00b5\n",
            "/content/drive/MyDrive/Face-Mask-Detection-master/Age-And-Gender-Detection/.git/objects/b3/30e4aebd60abb1592f94e80155100f2b8dbe48\n",
            "/content/drive/MyDrive/Face-Mask-Detection-master/Age-And-Gender-Detection/.git/objects/77/0cf44af20b7ddf2cde68320198a9d08b99ce8c\n",
            "/content/drive/MyDrive/Face-Mask-Detection-master/Age-And-Gender-Detection/.git/objects/73/5b5dc0dd3fd9cbf25c2027f2e01a85100b4f80\n",
            "/content/drive/MyDrive/Face-Mask-Detection-master/Age-And-Gender-Detection/.git/objects/58/7f7bb22ae7232f7942fb9c66f8e8c0bc54efa7\n",
            "/content/drive/MyDrive/Face-Mask-Detection-master/Age-And-Gender-Detection/.git/objects/f6/7874e7c514f8fbb76abbfca95bc17aee48d41b\n",
            "/content/drive/MyDrive/Face-Mask-Detection-master/Age-And-Gender-Detection/.git/objects/f1/0cedcf0ba8c02f9b3b96b122111686920bac0e\n",
            "/content/drive/MyDrive/Face-Mask-Detection-master/Age-And-Gender-Detection/.git/objects/f4/b99a2f9e55a41d0a1eae899cb7c70e0f681cc2\n",
            "/content/drive/MyDrive/Face-Mask-Detection-master/Age-And-Gender-Detection/.git/objects/d9/b54a9936bb2b9fbb95cabbad6d773f0ee1ec78\n",
            "/content/drive/MyDrive/age_and_gender_detection/image.jpg\n",
            "/content/drive/MyDrive/age_and_gender_detection/README.md\n",
            "/content/drive/MyDrive/age_and_gender_detection/image2.jpg\n",
            "/content/drive/MyDrive/age_and_gender_detection/age&genderDetection.ipynb\n",
            "/content/drive/MyDrive/age_and_gender_detection/image1.jpg\n",
            "/content/drive/MyDrive/age_and_gender_detection/grile.jpeg\n",
            "/content/drive/MyDrive/age_and_gender_detection/.git/description\n",
            "/content/drive/MyDrive/age_and_gender_detection/.git/config\n",
            "/content/drive/MyDrive/age_and_gender_detection/.git/HEAD\n",
            "/content/drive/MyDrive/age_and_gender_detection/.git/packed-refs\n",
            "/content/drive/MyDrive/age_and_gender_detection/.git/index\n",
            "/content/drive/MyDrive/age_and_gender_detection/.git/info/exclude\n",
            "/content/drive/MyDrive/age_and_gender_detection/.git/objects/a2/23e8926c762d17119a09ac3eda58176e477331\n",
            "/content/drive/MyDrive/age_and_gender_detection/.git/objects/46/058618ef43b761e82977befe4e14293addba4a\n",
            "/content/drive/MyDrive/age_and_gender_detection/.git/objects/67/96ae56ccb299806570841f650acf63f3503c4c\n",
            "/content/drive/MyDrive/age_and_gender_detection/.git/objects/0c/bc9b7c6b852fa89a238560b0f4f3116b60496b\n",
            "/content/drive/MyDrive/age_and_gender_detection/.git/objects/e3/4f0caf4037e91acbebf0dcef12b92c86b4457d\n",
            "/content/drive/MyDrive/age_and_gender_detection/.git/objects/95/2320df2cb9cac4409834b47601954ac75aa8e5\n",
            "/content/drive/MyDrive/age_and_gender_detection/.git/objects/9f/2d16b59baafe8444965e310e2d07de5aaef5f5\n",
            "/content/drive/MyDrive/age_and_gender_detection/.git/objects/3c/f86cb14fa3c345d5e44a2017b008aa02c5b115\n",
            "/content/drive/MyDrive/age_and_gender_detection/.git/objects/6a/2873be8aa4369f29d2910a7909810ca13c7474\n",
            "/content/drive/MyDrive/age_and_gender_detection/.git/objects/10/58869f99c30a29aa95b51eded81f49580fff08\n",
            "/content/drive/MyDrive/age_and_gender_detection/.git/objects/2d/10714781bd8d4b65b6d2df4b467683f3a227a5\n",
            "/content/drive/MyDrive/age_and_gender_detection/.git/logs/HEAD\n",
            "/content/drive/MyDrive/age_and_gender_detection/.git/logs/refs/remotes/origin/HEAD\n",
            "/content/drive/MyDrive/age_and_gender_detection/.git/logs/refs/heads/master\n",
            "/content/drive/MyDrive/age_and_gender_detection/.git/refs/remotes/origin/HEAD\n",
            "/content/drive/MyDrive/age_and_gender_detection/.git/refs/heads/master\n",
            "/content/drive/MyDrive/age_and_gender_detection/.git/hooks/pre-applypatch.sample\n",
            "/content/drive/MyDrive/age_and_gender_detection/.git/hooks/post-update.sample\n",
            "/content/drive/MyDrive/age_and_gender_detection/.git/hooks/applypatch-msg.sample\n",
            "/content/drive/MyDrive/age_and_gender_detection/.git/hooks/pre-receive.sample\n",
            "/content/drive/MyDrive/age_and_gender_detection/.git/hooks/commit-msg.sample\n",
            "/content/drive/MyDrive/age_and_gender_detection/.git/hooks/pre-commit.sample\n",
            "/content/drive/MyDrive/age_and_gender_detection/.git/hooks/prepare-commit-msg.sample\n",
            "/content/drive/MyDrive/age_and_gender_detection/.git/hooks/update.sample\n",
            "/content/drive/MyDrive/age_and_gender_detection/.git/hooks/pre-rebase.sample\n",
            "/content/drive/MyDrive/age_and_gender_detection/.git/hooks/pre-push.sample\n",
            "/content/drive/MyDrive/age_and_gender_detection/.git/hooks/fsmonitor-watchman.sample\n",
            "/content/drive/MyDrive/age_and_gender_detection/age_and_gender_detection/ladys.jpg\n",
            "/content/drive/MyDrive/age_and_gender_detection/age_and_gender_detection/.git/description\n",
            "/content/drive/MyDrive/age_and_gender_detection/age_and_gender_detection/.git/packed-refs\n",
            "/content/drive/MyDrive/age_and_gender_detection/age_and_gender_detection/.git/HEAD\n",
            "/content/drive/MyDrive/age_and_gender_detection/age_and_gender_detection/.git/config\n",
            "/content/drive/MyDrive/age_and_gender_detection/age_and_gender_detection/.git/index\n",
            "/content/drive/MyDrive/age_and_gender_detection/age_and_gender_detection/.git/hooks/update.sample\n",
            "/content/drive/MyDrive/age_and_gender_detection/age_and_gender_detection/.git/hooks/pre-commit.sample\n",
            "/content/drive/MyDrive/age_and_gender_detection/age_and_gender_detection/.git/hooks/pre-push.sample\n",
            "/content/drive/MyDrive/age_and_gender_detection/age_and_gender_detection/.git/hooks/pre-receive.sample\n",
            "/content/drive/MyDrive/age_and_gender_detection/age_and_gender_detection/.git/hooks/pre-rebase.sample\n",
            "/content/drive/MyDrive/age_and_gender_detection/age_and_gender_detection/.git/hooks/pre-applypatch.sample\n",
            "/content/drive/MyDrive/age_and_gender_detection/age_and_gender_detection/.git/hooks/commit-msg.sample\n",
            "/content/drive/MyDrive/age_and_gender_detection/age_and_gender_detection/.git/hooks/applypatch-msg.sample\n",
            "/content/drive/MyDrive/age_and_gender_detection/age_and_gender_detection/.git/hooks/post-update.sample\n",
            "/content/drive/MyDrive/age_and_gender_detection/age_and_gender_detection/.git/hooks/prepare-commit-msg.sample\n",
            "/content/drive/MyDrive/age_and_gender_detection/age_and_gender_detection/.git/hooks/fsmonitor-watchman.sample\n",
            "/content/drive/MyDrive/age_and_gender_detection/age_and_gender_detection/.git/info/exclude\n",
            "/content/drive/MyDrive/age_and_gender_detection/age_and_gender_detection/.git/refs/heads/master\n",
            "/content/drive/MyDrive/age_and_gender_detection/age_and_gender_detection/.git/refs/remotes/origin/HEAD\n",
            "/content/drive/MyDrive/age_and_gender_detection/age_and_gender_detection/.git/objects/10/58869f99c30a29aa95b51eded81f49580fff08\n",
            "/content/drive/MyDrive/age_and_gender_detection/age_and_gender_detection/.git/objects/3c/f86cb14fa3c345d5e44a2017b008aa02c5b115\n",
            "/content/drive/MyDrive/age_and_gender_detection/age_and_gender_detection/.git/objects/46/058618ef43b761e82977befe4e14293addba4a\n",
            "/content/drive/MyDrive/age_and_gender_detection/age_and_gender_detection/.git/objects/67/96ae56ccb299806570841f650acf63f3503c4c\n",
            "/content/drive/MyDrive/age_and_gender_detection/age_and_gender_detection/.git/objects/6a/2873be8aa4369f29d2910a7909810ca13c7474\n",
            "/content/drive/MyDrive/age_and_gender_detection/age_and_gender_detection/.git/objects/95/2320df2cb9cac4409834b47601954ac75aa8e5\n",
            "/content/drive/MyDrive/age_and_gender_detection/age_and_gender_detection/.git/objects/9f/2d16b59baafe8444965e310e2d07de5aaef5f5\n",
            "/content/drive/MyDrive/age_and_gender_detection/age_and_gender_detection/.git/objects/a2/23e8926c762d17119a09ac3eda58176e477331\n",
            "/content/drive/MyDrive/age_and_gender_detection/age_and_gender_detection/.git/objects/e3/4f0caf4037e91acbebf0dcef12b92c86b4457d\n",
            "/content/drive/MyDrive/age_and_gender_detection/age_and_gender_detection/.git/objects/0c/bc9b7c6b852fa89a238560b0f4f3116b60496b\n",
            "/content/drive/MyDrive/age_and_gender_detection/age_and_gender_detection/.git/objects/2d/10714781bd8d4b65b6d2df4b467683f3a227a5\n",
            "/content/drive/MyDrive/age_and_gender_detection/age_and_gender_detection/.git/logs/HEAD\n",
            "/content/drive/MyDrive/age_and_gender_detection/age_and_gender_detection/.git/logs/refs/remotes/origin/HEAD\n",
            "/content/drive/MyDrive/age_and_gender_detection/age_and_gender_detection/.git/logs/refs/heads/master\n",
            "/content/drive/MyDrive/emotion_recognition/README.md\n",
            "/content/drive/MyDrive/emotion_recognition/haarcascade_frontalface_default.xml\n",
            "/content/drive/MyDrive/emotion_recognition/model.h5\n",
            "/content/drive/MyDrive/emotion_recognition/sad.png\n",
            "/content/drive/MyDrive/emotion_recognition/fears.jpeg\n",
            "/content/drive/MyDrive/emotion_recognition/happy.jpg\n",
            "/content/drive/MyDrive/emotion_recognition/angry.JPG\n",
            "/content/drive/MyDrive/emotion_recognition/surprised.png\n",
            "/content/drive/MyDrive/emotion_recognition/neutral.jpg\n",
            "/content/drive/MyDrive/emotion_recognition/.git/description\n",
            "/content/drive/MyDrive/emotion_recognition/.git/packed-refs\n",
            "/content/drive/MyDrive/emotion_recognition/.git/HEAD\n",
            "/content/drive/MyDrive/emotion_recognition/.git/config\n",
            "/content/drive/MyDrive/emotion_recognition/.git/index\n",
            "/content/drive/MyDrive/emotion_recognition/.git/hooks/post-update.sample\n",
            "/content/drive/MyDrive/emotion_recognition/.git/hooks/applypatch-msg.sample\n",
            "/content/drive/MyDrive/emotion_recognition/.git/hooks/commit-msg.sample\n",
            "/content/drive/MyDrive/emotion_recognition/.git/hooks/pre-rebase.sample\n",
            "/content/drive/MyDrive/emotion_recognition/.git/hooks/pre-commit.sample\n",
            "/content/drive/MyDrive/emotion_recognition/.git/hooks/fsmonitor-watchman.sample\n",
            "/content/drive/MyDrive/emotion_recognition/.git/hooks/pre-applypatch.sample\n",
            "/content/drive/MyDrive/emotion_recognition/.git/hooks/update.sample\n",
            "/content/drive/MyDrive/emotion_recognition/.git/hooks/pre-receive.sample\n",
            "/content/drive/MyDrive/emotion_recognition/.git/hooks/pre-push.sample\n",
            "/content/drive/MyDrive/emotion_recognition/.git/hooks/prepare-commit-msg.sample\n",
            "/content/drive/MyDrive/emotion_recognition/.git/info/exclude\n",
            "/content/drive/MyDrive/emotion_recognition/.git/refs/heads/main\n",
            "/content/drive/MyDrive/emotion_recognition/.git/refs/remotes/origin/HEAD\n",
            "/content/drive/MyDrive/emotion_recognition/.git/objects/aa/d1e29f720698b51d10f1348a22afaa82e15ced\n",
            "/content/drive/MyDrive/emotion_recognition/.git/objects/7e/254b1051b9f33db01d2a76acc18795679e6821\n",
            "/content/drive/MyDrive/emotion_recognition/.git/objects/61/414077633dd22e353f4810594604ae7db37abd\n",
            "/content/drive/MyDrive/emotion_recognition/.git/objects/b8/35d47ab00b8e09e39fe731da0ad8bd9aff228d\n",
            "/content/drive/MyDrive/emotion_recognition/.git/objects/e6/de4ce70eb37d5c9044752b8e3bea0ebda5af9e\n",
            "/content/drive/MyDrive/emotion_recognition/.git/objects/08/df4cff90966bb0153dec4b5ed4fdc693359029\n",
            "/content/drive/MyDrive/emotion_recognition/.git/objects/7a/8e9c72492e27ceacf103627f42d2ae82c72d77\n",
            "/content/drive/MyDrive/emotion_recognition/.git/objects/b2/5847d384d69148fff92fa406e3f649c56bff49\n",
            "/content/drive/MyDrive/emotion_recognition/.git/objects/70/c8ddfd324ab6c89f4a485ef490992330d05f0c\n",
            "/content/drive/MyDrive/emotion_recognition/.git/objects/ec/37f7f51223cbb240b72434cd2eadaaa2ea2663\n",
            "/content/drive/MyDrive/emotion_recognition/.git/objects/26/6900517037e484662d4669aadc4ffd42e56349\n",
            "/content/drive/MyDrive/emotion_recognition/.git/objects/f8/6ab6537f05184a00f6421d9afefb9e1294a349\n",
            "/content/drive/MyDrive/emotion_recognition/.git/objects/cb/d1aa89e927d8d54b49fe666bf17244c3c46a7b\n",
            "/content/drive/MyDrive/emotion_recognition/.git/objects/f7/80f8b8e7d52e5c1ae23d5ad7443fd8de7015ab\n",
            "/content/drive/MyDrive/emotion_recognition/.git/logs/HEAD\n",
            "/content/drive/MyDrive/emotion_recognition/.git/logs/refs/remotes/origin/HEAD\n",
            "/content/drive/MyDrive/emotion_recognition/.git/logs/refs/heads/main\n",
            "/content/drive/MyDrive/face_mask_detection/us_donald-trump.webp\n",
            "/content/drive/MyDrive/face_mask_detection/README.md\n",
            "/content/drive/MyDrive/face_mask_detection/video.mp4\n",
            "/content/drive/MyDrive/face_mask_detection/image2.png\n",
            "/content/drive/MyDrive/face_mask_detection/image3.png\n",
            "/content/drive/MyDrive/face_mask_detection/haarcascade_frontalface_alt2.xml\n",
            "/content/drive/MyDrive/face_mask_detection/image.jpg\n",
            "/content/drive/MyDrive/face_mask_detection/image4.jpg\n",
            "/content/drive/MyDrive/face_mask_detection/Face_Mask_Detection.ipynb\n",
            "/content/drive/MyDrive/face_mask_detection/usjoebiden.webp\n",
            "/content/drive/MyDrive/face_mask_detection/girl.jpeg\n",
            "/content/drive/MyDrive/face_mask_detection/Copy of Face_Mask_Detection BY SHYAM KARTHICKEYAN.ipynb\n",
            "/content/drive/MyDrive/face_mask_detection/.git/description\n",
            "/content/drive/MyDrive/face_mask_detection/.git/config\n",
            "/content/drive/MyDrive/face_mask_detection/.git/index\n",
            "/content/drive/MyDrive/face_mask_detection/.git/HEAD\n",
            "/content/drive/MyDrive/face_mask_detection/.git/packed-refs\n",
            "/content/drive/MyDrive/face_mask_detection/.git/hooks/pre-applypatch.sample\n",
            "/content/drive/MyDrive/face_mask_detection/.git/hooks/post-update.sample\n",
            "/content/drive/MyDrive/face_mask_detection/.git/hooks/pre-receive.sample\n",
            "/content/drive/MyDrive/face_mask_detection/.git/hooks/pre-push.sample\n",
            "/content/drive/MyDrive/face_mask_detection/.git/hooks/commit-msg.sample\n",
            "/content/drive/MyDrive/face_mask_detection/.git/hooks/prepare-commit-msg.sample\n",
            "/content/drive/MyDrive/face_mask_detection/.git/hooks/fsmonitor-watchman.sample\n",
            "/content/drive/MyDrive/face_mask_detection/.git/hooks/update.sample\n",
            "/content/drive/MyDrive/face_mask_detection/.git/hooks/pre-rebase.sample\n",
            "/content/drive/MyDrive/face_mask_detection/.git/hooks/pre-commit.sample\n",
            "/content/drive/MyDrive/face_mask_detection/.git/hooks/applypatch-msg.sample\n",
            "/content/drive/MyDrive/face_mask_detection/.git/info/exclude\n",
            "/content/drive/MyDrive/face_mask_detection/.git/refs/heads/master\n",
            "/content/drive/MyDrive/face_mask_detection/.git/refs/remotes/origin/HEAD\n",
            "/content/drive/MyDrive/face_mask_detection/.git/logs/HEAD\n",
            "/content/drive/MyDrive/face_mask_detection/.git/logs/refs/heads/master\n",
            "/content/drive/MyDrive/face_mask_detection/.git/logs/refs/remotes/origin/HEAD\n",
            "/content/drive/MyDrive/face_mask_detection/.git/objects/96/909f509575b836b478cc9363c5ff48c6cdf835\n",
            "/content/drive/MyDrive/face_mask_detection/.git/objects/63/55c6a52857eb5ed6829eb4262b335cf1cb8a45\n",
            "/content/drive/MyDrive/face_mask_detection/.git/objects/ce/bc0838813d34980fcddc1b567dc7813b14e6b7\n",
            "/content/drive/MyDrive/face_mask_detection/.git/objects/9c/cd1df141182abc9f40c9e8a1c2b09f0d384354\n",
            "/content/drive/MyDrive/face_mask_detection/.git/objects/b0/ae708c52e7ff72ea12f2818b36003cbe097bee\n",
            "/content/drive/MyDrive/face_mask_detection/.git/objects/7b/037de5e87043ee434fe8ad0808d5e641900a86\n",
            "/content/drive/MyDrive/face_mask_detection/.git/objects/e3/4f0caf4037e91acbebf0dcef12b92c86b4457d\n",
            "/content/drive/MyDrive/face_mask_detection/.git/objects/c2/9ade06d58606daf7350c9d8a89b08df4061ced\n",
            "/content/drive/MyDrive/face_mask_detection/.git/objects/b4/9cf5df3b0c561c9b3887d5e63a93b813847e18\n",
            "/content/drive/MyDrive/face_mask_detection/.git/objects/8e/1d63ad7d916dadffbb0a9f4e19681ba308ce6c\n",
            "/content/drive/MyDrive/face_mask_detection/.git/objects/d3/2fa88fc789d9b501e73aaac239b2c9c7f52af8\n",
            "/content/drive/MyDrive/face_mask_detection/.git/objects/af/972f3c2afe8ace9490ca01d07b30711836aa43\n",
            "/content/drive/MyDrive/face_mask_detection/.git/objects/f9/cd321715046c578ab821f9f09d590be8f99079\n",
            "/content/drive/MyDrive/face_mask_detection/.git/objects/d2/aac1d8f96328821aa837a8b627393a263cb9c4\n",
            "/content/drive/MyDrive/face_mask_detection/.git/objects/b2/52f1972ecde5b0814d910eaf5eb90f9160d2ba\n",
            "/content/drive/MyDrive/VERSION 1.0/mask_recog.h5\n",
            "/content/drive/MyDrive/VERSION 1.0/README.md\n",
            "/content/drive/MyDrive/VERSION 1.0/haarcascade_frontalface_alt2.xml\n",
            "/content/drive/MyDrive/VERSION 1.0/ustrump.webp\n",
            "/content/drive/MyDrive/VERSION 1.0/girlinmask.webp\n",
            "/content/drive/MyDrive/VERSION 1.0/maske.webp\n",
            "/content/drive/MyDrive/VERSION 1.0/maskgirl.webp\n",
            "/content/drive/MyDrive/VERSION 1.0/smile.jpeg\n",
            "/content/drive/MyDrive/VERSION 1.0/Face_Mask_Detection.ipynb\n",
            "/content/drive/MyDrive/VERSION 1.0/man.jpg\n",
            "/content/drive/MyDrive/facerecog/uc?export=download&id=1PZ_6Zsy1Vb0s0JmjEmVd8FS99zoMCiN1\n",
            "/content/drive/MyDrive/facerecog/facenet_keras.h5\n",
            "/content/drive/MyDrive/facerecog/haarcascade_frontalface_default.xml\n",
            "/content/drive/MyDrive/facerecog/BuatSignatureHaar2.ipynb\n",
            "/content/drive/MyDrive/facerecog/KenaliWajahHaar.ipynb\n",
            "/content/drive/MyDrive/facerecog/README.md\n",
            "/content/drive/MyDrive/age-and-gender-detection/4.jpg\n",
            "/content/drive/MyDrive/age-and-gender-detection/Age_and_Gender_Detection.ipynb\n",
            "/content/drive/MyDrive/age-and-gender-detection/README.md\n",
            "/content/drive/MyDrive/age-and-gender-detection/5.jpg\n",
            "/content/drive/MyDrive/age-and-gender-detection/2.jpg\n",
            "/content/drive/MyDrive/age-and-gender-detection/1.jpg\n",
            "/content/drive/MyDrive/age-and-gender-detection/6.jpg\n",
            "/content/drive/MyDrive/age-and-gender-detection/3.jpg\n",
            "/content/drive/MyDrive/age-and-gender-detection/man.jpg\n",
            "/content/drive/MyDrive/age-and-gender-detection/Copy of Age and Gender Detection.ipynb\n",
            "/content/drive/MyDrive/age-and-gender-detection/.git/description\n",
            "/content/drive/MyDrive/age-and-gender-detection/.git/packed-refs\n",
            "/content/drive/MyDrive/age-and-gender-detection/.git/index\n",
            "/content/drive/MyDrive/age-and-gender-detection/.git/HEAD\n",
            "/content/drive/MyDrive/age-and-gender-detection/.git/config\n",
            "/content/drive/MyDrive/age-and-gender-detection/.git/hooks/pre-push.sample\n",
            "/content/drive/MyDrive/age-and-gender-detection/.git/hooks/pre-applypatch.sample\n",
            "/content/drive/MyDrive/age-and-gender-detection/.git/hooks/update.sample\n",
            "/content/drive/MyDrive/age-and-gender-detection/.git/hooks/prepare-commit-msg.sample\n",
            "/content/drive/MyDrive/age-and-gender-detection/.git/hooks/pre-receive.sample\n",
            "/content/drive/MyDrive/age-and-gender-detection/.git/hooks/commit-msg.sample\n",
            "/content/drive/MyDrive/age-and-gender-detection/.git/hooks/pre-commit.sample\n",
            "/content/drive/MyDrive/age-and-gender-detection/.git/hooks/post-update.sample\n",
            "/content/drive/MyDrive/age-and-gender-detection/.git/hooks/applypatch-msg.sample\n",
            "/content/drive/MyDrive/age-and-gender-detection/.git/hooks/pre-rebase.sample\n",
            "/content/drive/MyDrive/age-and-gender-detection/.git/hooks/fsmonitor-watchman.sample\n",
            "/content/drive/MyDrive/age-and-gender-detection/.git/info/exclude\n",
            "/content/drive/MyDrive/age-and-gender-detection/.git/objects/54/8064c2b76ec5917ce7d2608cf81327e50e1b25\n",
            "/content/drive/MyDrive/age-and-gender-detection/.git/objects/f3/54bc0ef87d706a371a36bfb282754bbd600819\n",
            "/content/drive/MyDrive/age-and-gender-detection/.git/objects/d4/4c9a0fe1b17929a5d03a4125b5342cc16785b1\n",
            "/content/drive/MyDrive/age-and-gender-detection/.git/objects/97/12fb774be2130032e9350aa6807e7cc8d1002f\n",
            "/content/drive/MyDrive/age-and-gender-detection/.git/objects/fb/03ed58c182e0a49806b8d3d8e04ae6f3c98eb2\n",
            "/content/drive/MyDrive/age-and-gender-detection/.git/objects/9e/db453cdc31b9afacc72e1593c360cea4f13c1d\n",
            "/content/drive/MyDrive/age-and-gender-detection/.git/objects/14/6314349379e57b2a0d482b3f1257951a1e3bc7\n",
            "/content/drive/MyDrive/age-and-gender-detection/.git/objects/71/0b9c008f2ae553b4c239469b0085cdf1919ca8\n",
            "/content/drive/MyDrive/age-and-gender-detection/.git/objects/ab/4656e7d6aed418e7074868d446bec5864dc45b\n",
            "/content/drive/MyDrive/age-and-gender-detection/.git/objects/fd/e4c9f781e3627cd3a4fa51cc4751aac6df0fce\n",
            "/content/drive/MyDrive/age-and-gender-detection/.git/objects/7a/180776e100852ffef758222df08a1ba20c8af3\n",
            "/content/drive/MyDrive/age-and-gender-detection/.git/objects/6f/3a12c9837bf7d20dd7c95eb4e6bc7fd4dbe05a\n",
            "/content/drive/MyDrive/age-and-gender-detection/.git/objects/7b/23eff2f45b0ee993f0d001a41bd2272c726c25\n",
            "/content/drive/MyDrive/age-and-gender-detection/.git/objects/36/e589dd0ddd677a734346b2f101ed0fb9d09d7b\n",
            "/content/drive/MyDrive/age-and-gender-detection/.git/objects/87/75e1fd26fe415bf366f106a666bf380e0f32d9\n",
            "/content/drive/MyDrive/age-and-gender-detection/.git/objects/f4/63d041d017b5193266cc90cecaaa6ba5a3ab39\n",
            "/content/drive/MyDrive/age-and-gender-detection/.git/objects/f4/3ce187404a32165d6278d21c2672083302032e\n",
            "/content/drive/MyDrive/age-and-gender-detection/.git/logs/HEAD\n",
            "/content/drive/MyDrive/age-and-gender-detection/.git/logs/refs/remotes/origin/HEAD\n",
            "/content/drive/MyDrive/age-and-gender-detection/.git/logs/refs/heads/main\n",
            "/content/drive/MyDrive/age-and-gender-detection/.git/refs/heads/main\n",
            "/content/drive/MyDrive/age-and-gender-detection/.git/refs/remotes/origin/HEAD\n",
            "/content/drive/MyDrive/age-and-gender-detection/modelNweight/gender_net.caffemodel\n",
            "/content/drive/MyDrive/age-and-gender-detection/modelNweight/age_net.caffemodel\n",
            "/content/drive/MyDrive/age-and-gender-detection/modelNweight/age_deploy.prototxt\n",
            "/content/drive/MyDrive/age-and-gender-detection/modelNweight/gender_deploy.prototxt\n",
            "/content/drive/MyDrive/age-and-gender-detection/modelNweight/opencv_face_detector_uint8.pb\n",
            "/content/drive/MyDrive/age-and-gender-detection/modelNweight/opencv_face_detector.pbtxt\n",
            "/content/drive/MyDrive/vocab/strings.json\n",
            "/content/drive/MyDrive/vocab/vectors\n",
            "/content/drive/MyDrive/vocab/key2row\n",
            "/content/drive/MyDrive/vocab/vectors.cfg\n",
            "/content/drive/MyDrive/vocab/lookups.bin\n",
            "/content/drive/MyDrive/AG/6.jpg\n",
            "/content/drive/MyDrive/AG/3.jpg\n",
            "/content/drive/MyDrive/AG/2.jpg\n",
            "/content/drive/MyDrive/AG/4.jpg\n",
            "/content/drive/MyDrive/AG/README.md\n",
            "/content/drive/MyDrive/AG/5.jpg\n",
            "/content/drive/MyDrive/AG/ladys.jpg\n",
            "/content/drive/MyDrive/AG/fifty.jpg\n",
            "/content/drive/MyDrive/AG/AG.ipynb\n",
            "/content/drive/MyDrive/AG/modelNweight/age_deploy.prototxt\n",
            "/content/drive/MyDrive/AG/modelNweight/gender_deploy.prototxt\n",
            "/content/drive/MyDrive/AG/modelNweight/age_net.caffemodel\n",
            "/content/drive/MyDrive/AG/modelNweight/opencv_face_detector.pbtxt\n",
            "/content/drive/MyDrive/AG/modelNweight/opencv_face_detector_uint8.pb\n",
            "/content/drive/MyDrive/AG/modelNweight/gender_net.caffemodel\n",
            "/content/drive/MyDrive/TS/Reviews.csv\n",
            "/content/drive/MyDrive/TS/hashes.txt\n",
            "/content/drive/MyDrive/TS/database.sqlite\n",
            "/content/drive/MyDrive/archive(3).zip (Unzipped Files) (1)/BBC News Summary/News Articles/business/009.txt\n",
            "/content/drive/MyDrive/archive(3).zip (Unzipped Files) (1)/BBC News Summary/News Articles/business/015.txt\n",
            "/content/drive/MyDrive/archive(3).zip (Unzipped Files) (1)/BBC News Summary/News Articles/business/043.txt\n",
            "/content/drive/MyDrive/archive(3).zip (Unzipped Files) (1)/BBC News Summary/News Articles/business/066.txt\n",
            "/content/drive/MyDrive/archive(3).zip (Unzipped Files) (1)/BBC News Summary/News Articles/business/020.txt\n",
            "/content/drive/MyDrive/archive(3).zip (Unzipped Files) (1)/BBC News Summary/News Articles/business/016.txt\n",
            "/content/drive/MyDrive/archive(3).zip (Unzipped Files) (1)/BBC News Summary/News Articles/business/058.txt\n",
            "/content/drive/MyDrive/archive(3).zip (Unzipped Files) (1)/BBC News Summary/News Articles/business/046.txt\n",
            "/content/drive/MyDrive/archive(3).zip (Unzipped Files) (1)/BBC News Summary/News Articles/business/055.txt\n",
            "/content/drive/MyDrive/archive(3).zip (Unzipped Files) (1)/BBC News Summary/News Articles/business/056.txt\n",
            "/content/drive/MyDrive/archive(3).zip (Unzipped Files) (1)/BBC News Summary/News Articles/business/035.txt\n",
            "/content/drive/MyDrive/archive(3).zip (Unzipped Files) (1)/BBC News Summary/News Articles/business/037.txt\n",
            "/content/drive/MyDrive/archive(3).zip (Unzipped Files) (1)/BBC News Summary/News Articles/business/065.txt\n",
            "/content/drive/MyDrive/archive(3).zip (Unzipped Files) (1)/BBC News Summary/News Articles/business/004.txt\n",
            "/content/drive/MyDrive/archive(3).zip (Unzipped Files) (1)/BBC News Summary/News Articles/business/070.txt\n",
            "/content/drive/MyDrive/archive(3).zip (Unzipped Files) (1)/BBC News Summary/News Articles/business/053.txt\n",
            "/content/drive/MyDrive/archive(3).zip (Unzipped Files) (1)/BBC News Summary/News Articles/business/028.txt\n",
            "/content/drive/MyDrive/archive(3).zip (Unzipped Files) (1)/BBC News Summary/News Articles/business/025.txt\n",
            "/content/drive/MyDrive/archive(3).zip (Unzipped Files) (1)/BBC News Summary/News Articles/business/024.txt\n",
            "/content/drive/MyDrive/archive(3).zip (Unzipped Files) (1)/BBC News Summary/News Articles/business/007.txt\n",
            "/content/drive/MyDrive/archive(3).zip (Unzipped Files) (1)/BBC News Summary/News Articles/business/050.txt\n",
            "/content/drive/MyDrive/archive(3).zip (Unzipped Files) (1)/BBC News Summary/News Articles/business/031.txt\n",
            "/content/drive/MyDrive/archive(3).zip (Unzipped Files) (1)/BBC News Summary/News Articles/business/052.txt\n",
            "/content/drive/MyDrive/archive(3).zip (Unzipped Files) (1)/BBC News Summary/News Articles/business/032.txt\n",
            "/content/drive/MyDrive/archive(3).zip (Unzipped Files) (1)/BBC News Summary/News Articles/business/063.txt\n",
            "/content/drive/MyDrive/archive(3).zip (Unzipped Files) (1)/BBC News Summary/News Articles/business/042.txt\n",
            "/content/drive/MyDrive/archive(3).zip (Unzipped Files) (1)/BBC News Summary/News Articles/business/034.txt\n",
            "/content/drive/MyDrive/archive(3).zip (Unzipped Files) (1)/BBC News Summary/News Articles/business/029.txt\n",
            "/content/drive/MyDrive/archive(3).zip (Unzipped Files) (1)/BBC News Summary/News Articles/business/054.txt\n",
            "/content/drive/MyDrive/archive(3).zip (Unzipped Files) (1)/BBC News Summary/News Articles/business/026.txt\n",
            "/content/drive/MyDrive/archive(3).zip (Unzipped Files) (1)/BBC News Summary/News Articles/business/044.txt\n",
            "/content/drive/MyDrive/archive(3).zip (Unzipped Files) (1)/BBC News Summary/News Articles/business/069.txt\n",
            "/content/drive/MyDrive/archive(3).zip (Unzipped Files) (1)/BBC News Summary/News Articles/business/067.txt\n",
            "/content/drive/MyDrive/archive(3).zip (Unzipped Files) (1)/BBC News Summary/News Articles/business/023.txt\n",
            "/content/drive/MyDrive/archive(3).zip (Unzipped Files) (1)/BBC News Summary/News Articles/business/019.txt\n",
            "/content/drive/MyDrive/archive(3).zip (Unzipped Files) (1)/BBC News Summary/News Articles/business/010.txt\n",
            "/content/drive/MyDrive/archive(3).zip (Unzipped Files) (1)/BBC News Summary/News Articles/business/041.txt\n",
            "/content/drive/MyDrive/archive(3).zip (Unzipped Files) (1)/BBC News Summary/News Articles/business/003.txt\n",
            "/content/drive/MyDrive/archive(3).zip (Unzipped Files) (1)/BBC News Summary/News Articles/business/036.txt\n",
            "/content/drive/MyDrive/archive(3).zip (Unzipped Files) (1)/BBC News Summary/News Articles/business/030.txt\n",
            "/content/drive/MyDrive/archive(3).zip (Unzipped Files) (1)/BBC News Summary/News Articles/business/012.txt\n",
            "/content/drive/MyDrive/archive(3).zip (Unzipped Files) (1)/BBC News Summary/News Articles/business/008.txt\n",
            "/content/drive/MyDrive/archive(3).zip (Unzipped Files) (1)/BBC News Summary/News Articles/business/061.txt\n",
            "/content/drive/MyDrive/archive(3).zip (Unzipped Files) (1)/BBC News Summary/News Articles/business/014.txt\n",
            "/content/drive/MyDrive/archive(3).zip (Unzipped Files) (1)/BBC News Summary/News Articles/business/027.txt\n",
            "/content/drive/MyDrive/archive(3).zip (Unzipped Files) (1)/BBC News Summary/News Articles/business/048.txt\n",
            "/content/drive/MyDrive/archive(3).zip (Unzipped Files) (1)/BBC News Summary/News Articles/business/005.txt\n",
            "/content/drive/MyDrive/archive(3).zip (Unzipped Files) (1)/BBC News Summary/News Articles/business/033.txt\n",
            "/content/drive/MyDrive/archive(3).zip (Unzipped Files) (1)/BBC News Summary/News Articles/business/064.txt\n",
            "/content/drive/MyDrive/archive(3).zip (Unzipped Files) (1)/BBC News Summary/News Articles/business/001.txt\n",
            "/content/drive/MyDrive/archive(3).zip (Unzipped Files) (1)/BBC News Summary/News Articles/business/062.txt\n",
            "/content/drive/MyDrive/archive(3).zip (Unzipped Files) (1)/BBC News Summary/News Articles/business/022.txt\n",
            "/content/drive/MyDrive/archive(3).zip (Unzipped Files) (1)/BBC News Summary/News Articles/business/006.txt\n",
            "/content/drive/MyDrive/archive(3).zip (Unzipped Files) (1)/BBC News Summary/News Articles/business/011.txt\n",
            "/content/drive/MyDrive/archive(3).zip (Unzipped Files) (1)/BBC News Summary/News Articles/business/021.txt\n",
            "/content/drive/MyDrive/archive(3).zip (Unzipped Files) (1)/BBC News Summary/News Articles/business/018.txt\n",
            "/content/drive/MyDrive/archive(3).zip (Unzipped Files) (1)/BBC News Summary/News Articles/business/013.txt\n",
            "/content/drive/MyDrive/archive(3).zip (Unzipped Files) (1)/BBC News Summary/News Articles/business/017.txt\n",
            "/content/drive/MyDrive/archive(3).zip (Unzipped Files) (1)/BBC News Summary/News Articles/business/038.txt\n",
            "/content/drive/MyDrive/archive(3).zip (Unzipped Files) (1)/BBC News Summary/News Articles/business/059.txt\n",
            "/content/drive/MyDrive/archive(3).zip (Unzipped Files) (1)/BBC News Summary/News Articles/business/071.txt\n",
            "/content/drive/MyDrive/archive(3).zip (Unzipped Files) (1)/BBC News Summary/News Articles/business/060.txt\n",
            "/content/drive/MyDrive/archive(3).zip (Unzipped Files) (1)/BBC News Summary/News Articles/business/049.txt\n",
            "/content/drive/MyDrive/archive(3).zip (Unzipped Files) (1)/BBC News Summary/News Articles/business/040.txt\n",
            "/content/drive/MyDrive/archive(3).zip (Unzipped Files) (1)/BBC News Summary/News Articles/business/002.txt\n",
            "/content/drive/MyDrive/archive(3).zip (Unzipped Files) (1)/BBC News Summary/News Articles/business/051.txt\n",
            "/content/drive/MyDrive/archive(3).zip (Unzipped Files) (1)/BBC News Summary/News Articles/business/039.txt\n",
            "/content/drive/MyDrive/archive(3).zip (Unzipped Files) (1)/BBC News Summary/News Articles/business/047.txt\n",
            "/content/drive/MyDrive/archive(3).zip (Unzipped Files) (1)/BBC News Summary/News Articles/business/045.txt\n",
            "/content/drive/MyDrive/archive(3).zip (Unzipped Files) (1)/BBC News Summary/News Articles/business/068.txt\n",
            "/content/drive/MyDrive/archive(3).zip (Unzipped Files) (1)/BBC News Summary/News Articles/business/057.txt\n",
            "/content/drive/MyDrive/archive(3).zip (Unzipped Files)/BBC News Summary/Summaries/entertainment/104.txt\n",
            "/content/drive/MyDrive/archive(3).zip (Unzipped Files)/BBC News Summary/Summaries/entertainment/260.txt\n",
            "/content/drive/MyDrive/archive(3).zip (Unzipped Files)/BBC News Summary/Summaries/entertainment/170.txt\n",
            "/content/drive/MyDrive/archive(3).zip (Unzipped Files)/BBC News Summary/Summaries/entertainment/174.txt\n",
            "/content/drive/MyDrive/archive(3).zip (Unzipped Files)/BBC News Summary/Summaries/entertainment/113.txt\n",
            "/content/drive/MyDrive/archive(3).zip (Unzipped Files)/BBC News Summary/Summaries/entertainment/311.txt\n",
            "/content/drive/MyDrive/archive(3).zip (Unzipped Files)/BBC News Summary/Summaries/entertainment/058.txt\n",
            "/content/drive/MyDrive/archive(3).zip (Unzipped Files)/BBC News Summary/Summaries/entertainment/162.txt\n",
            "/content/drive/MyDrive/archive(3).zip (Unzipped Files)/BBC News Summary/Summaries/entertainment/176.txt\n",
            "/content/drive/MyDrive/archive(3).zip (Unzipped Files)/BBC News Summary/Summaries/entertainment/169.txt\n",
            "/content/drive/MyDrive/archive(3).zip (Unzipped Files)/BBC News Summary/Summaries/entertainment/137.txt\n",
            "/content/drive/MyDrive/archive(3).zip (Unzipped Files)/BBC News Summary/Summaries/entertainment/213.txt\n",
            "/content/drive/MyDrive/archive(3).zip (Unzipped Files)/BBC News Summary/Summaries/entertainment/244.txt\n",
            "/content/drive/MyDrive/archive(3).zip (Unzipped Files)/BBC News Summary/Summaries/entertainment/010.txt\n",
            "/content/drive/MyDrive/archive(3).zip (Unzipped Files)/BBC News Summary/Summaries/entertainment/269.txt\n",
            "/content/drive/MyDrive/archive(3).zip (Unzipped Files)/BBC News Summary/Summaries/entertainment/272.txt\n",
            "/content/drive/MyDrive/archive(3).zip (Unzipped Files)/BBC News Summary/Summaries/entertainment/261.txt\n",
            "/content/drive/MyDrive/archive(3).zip (Unzipped Files)/BBC News Summary/Summaries/entertainment/054.txt\n",
            "/content/drive/MyDrive/archive(3).zip (Unzipped Files)/BBC News Summary/Summaries/entertainment/145.txt\n",
            "/content/drive/MyDrive/archive(3).zip (Unzipped Files)/BBC News Summary/Summaries/entertainment/305.txt\n",
            "/content/drive/MyDrive/archive(3).zip (Unzipped Files)/BBC News Summary/Summaries/entertainment/312.txt\n",
            "/content/drive/MyDrive/archive(3).zip (Unzipped Files)/BBC News Summary/Summaries/entertainment/290.txt\n",
            "/content/drive/MyDrive/archive(3).zip (Unzipped Files)/BBC News Summary/Summaries/entertainment/053.txt\n",
            "/content/drive/MyDrive/archive(3).zip (Unzipped Files)/BBC News Summary/Summaries/entertainment/153.txt\n",
            "/content/drive/MyDrive/archive(3).zip (Unzipped Files)/BBC News Summary/Summaries/entertainment/032.txt\n",
            "/content/drive/MyDrive/archive(3).zip (Unzipped Files)/BBC News Summary/Summaries/entertainment/157.txt\n",
            "/content/drive/MyDrive/archive(3).zip (Unzipped Files)/BBC News Summary/Summaries/entertainment/033.txt\n",
            "/content/drive/MyDrive/archive(3).zip (Unzipped Files)/BBC News Summary/Summaries/entertainment/117.txt\n",
            "/content/drive/MyDrive/archive(3).zip (Unzipped Files)/BBC News Summary/Summaries/entertainment/132.txt\n",
            "/content/drive/MyDrive/archive(3).zip (Unzipped Files)/BBC News Summary/Summaries/entertainment/195.txt\n",
            "/content/drive/MyDrive/archive(3).zip (Unzipped Files)/BBC News Summary/Summaries/entertainment/096.txt\n",
            "/content/drive/MyDrive/archive(3).zip (Unzipped Files)/BBC News Summary/Summaries/entertainment/252.txt\n",
            "/content/drive/MyDrive/archive(3).zip (Unzipped Files)/BBC News Summary/Summaries/entertainment/021.txt\n",
            "/content/drive/MyDrive/archive(3).zip (Unzipped Files)/BBC News Summary/Summaries/entertainment/089.txt\n",
            "/content/drive/MyDrive/archive(3).zip (Unzipped Files)/BBC News Summary/Summaries/entertainment/206.txt\n",
            "/content/drive/MyDrive/archive(3).zip (Unzipped Files)/BBC News Summary/Summaries/entertainment/138.txt\n",
            "/content/drive/MyDrive/archive(3).zip (Unzipped Files)/BBC News Summary/Summaries/entertainment/025.txt\n",
            "/content/drive/MyDrive/archive(3).zip (Unzipped Files)/BBC News Summary/Summaries/entertainment/069.txt\n",
            "/content/drive/MyDrive/archive(3).zip (Unzipped Files)/BBC News Summary/Summaries/entertainment/057.txt\n",
            "/content/drive/MyDrive/archive(3).zip (Unzipped Files)/BBC News Summary/Summaries/entertainment/257.txt\n",
            "/content/drive/MyDrive/archive(3).zip (Unzipped Files)/BBC News Summary/Summaries/entertainment/133.txt\n",
            "/content/drive/MyDrive/archive(3).zip (Unzipped Files)/BBC News Summary/Summaries/entertainment/015.txt\n",
            "/content/drive/MyDrive/archive(3).zip (Unzipped Files)/BBC News Summary/Summaries/entertainment/175.txt\n",
            "/content/drive/MyDrive/archive(3).zip (Unzipped Files)/BBC News Summary/Summaries/entertainment/085.txt\n",
            "/content/drive/MyDrive/archive(3).zip (Unzipped Files)/BBC News Summary/Summaries/entertainment/279.txt\n",
            "/content/drive/MyDrive/archive(3).zip (Unzipped Files)/BBC News Summary/Summaries/entertainment/083.txt\n",
            "/content/drive/MyDrive/archive(3).zip (Unzipped Files)/BBC News Summary/Summaries/entertainment/201.txt\n",
            "/content/drive/MyDrive/archive(3).zip (Unzipped Files)/BBC News Summary/Summaries/entertainment/086.txt\n",
            "/content/drive/MyDrive/archive(3).zip (Unzipped Files)/BBC News Summary/Summaries/entertainment/214.txt\n",
            "/content/drive/MyDrive/archive(3).zip (Unzipped Files)/BBC News Summary/Summaries/entertainment/171.txt\n",
            "/content/drive/MyDrive/archive(3).zip (Unzipped Files)/BBC News Summary/Summaries/entertainment/241.txt\n",
            "/content/drive/MyDrive/archive(3).zip (Unzipped Files)/BBC News Summary/Summaries/entertainment/292.txt\n",
            "/content/drive/MyDrive/archive(3).zip (Unzipped Files)/BBC News Summary/Summaries/entertainment/262.txt\n",
            "/content/drive/MyDrive/archive(3).zip (Unzipped Files)/BBC News Summary/Summaries/entertainment/264.txt\n",
            "/content/drive/MyDrive/archive(3).zip (Unzipped Files)/BBC News Summary/Summaries/entertainment/231.txt\n",
            "/content/drive/MyDrive/archive(3).zip (Unzipped Files)/BBC News Summary/Summaries/entertainment/243.txt\n",
            "/content/drive/MyDrive/archive(3).zip (Unzipped Files)/BBC News Summary/Summaries/entertainment/007.txt\n",
            "/content/drive/MyDrive/archive(3).zip (Unzipped Files)/BBC News Summary/Summaries/entertainment/052.txt\n",
            "/content/drive/MyDrive/archive(3).zip (Unzipped Files)/BBC News Summary/Summaries/entertainment/207.txt\n",
            "/content/drive/MyDrive/archive(3).zip (Unzipped Files)/BBC News Summary/Summaries/entertainment/151.txt\n",
            "/content/drive/MyDrive/archive(3).zip (Unzipped Files)/BBC News Summary/Summaries/entertainment/315.txt\n",
            "/content/drive/MyDrive/archive(3).zip (Unzipped Files)/BBC News Summary/Summaries/entertainment/189.txt\n",
            "/content/drive/MyDrive/archive(3).zip (Unzipped Files)/BBC News Summary/Summaries/entertainment/234.txt\n",
            "/content/drive/MyDrive/archive(3).zip (Unzipped Files)/BBC News Summary/Summaries/entertainment/026.txt\n",
            "/content/drive/MyDrive/archive(3).zip (Unzipped Files)/BBC News Summary/Summaries/entertainment/121.txt\n",
            "/content/drive/MyDrive/archive(3).zip (Unzipped Files)/BBC News Summary/Summaries/entertainment/256.txt\n",
            "/content/drive/MyDrive/archive(3).zip (Unzipped Files)/BBC News Summary/Summaries/entertainment/048.txt\n",
            "/content/drive/MyDrive/archive(3).zip (Unzipped Files)/BBC News Summary/Summaries/entertainment/049.txt\n",
            "/content/drive/MyDrive/archive(3).zip (Unzipped Files)/BBC News Summary/Summaries/entertainment/276.txt\n",
            "/content/drive/MyDrive/archive(3).zip (Unzipped Files)/BBC News Summary/Summaries/entertainment/059.txt\n",
            "/content/drive/MyDrive/archive(3).zip (Unzipped Files)/BBC News Summary/Summaries/entertainment/004.txt\n",
            "/content/drive/MyDrive/archive(3).zip (Unzipped Files)/BBC News Summary/Summaries/entertainment/167.txt\n",
            "/content/drive/MyDrive/archive(3).zip (Unzipped Files)/BBC News Summary/Summaries/entertainment/027.txt\n",
            "/content/drive/MyDrive/archive(3).zip (Unzipped Files)/BBC News Summary/Summaries/entertainment/313.txt\n",
            "/content/drive/MyDrive/archive(3).zip (Unzipped Files)/BBC News Summary/Summaries/entertainment/194.txt\n",
            "/content/drive/MyDrive/archive(3).zip (Unzipped Files)/BBC News Summary/Summaries/entertainment/223.txt\n",
            "/content/drive/MyDrive/archive(3).zip (Unzipped Files)/BBC News Summary/Summaries/entertainment/018.txt\n",
            "/content/drive/MyDrive/archive(3).zip (Unzipped Files)/BBC News Summary/Summaries/entertainment/185.txt\n",
            "/content/drive/MyDrive/archive(3).zip (Unzipped Files)/BBC News Summary/Summaries/entertainment/242.txt\n",
            "/content/drive/MyDrive/archive(3).zip (Unzipped Files)/BBC News Summary/Summaries/entertainment/013.txt\n",
            "/content/drive/MyDrive/archive(3).zip (Unzipped Files)/BBC News Summary/Summaries/entertainment/154.txt\n",
            "/content/drive/MyDrive/archive(3).zip (Unzipped Files)/BBC News Summary/Summaries/entertainment/077.txt\n",
            "/content/drive/MyDrive/archive(3).zip (Unzipped Files)/BBC News Summary/Summaries/entertainment/041.txt\n",
            "/content/drive/MyDrive/archive(3).zip (Unzipped Files)/BBC News Summary/Summaries/entertainment/082.txt\n",
            "/content/drive/MyDrive/archive(3).zip (Unzipped Files)/BBC News Summary/Summaries/entertainment/219.txt\n",
            "/content/drive/MyDrive/archive(3).zip (Unzipped Files)/BBC News Summary/Summaries/entertainment/307.txt\n",
            "/content/drive/MyDrive/archive(3).zip (Unzipped Files)/BBC News Summary/Summaries/entertainment/163.txt\n",
            "/content/drive/MyDrive/archive(3).zip (Unzipped Files)/BBC News Summary/Summaries/entertainment/150.txt\n",
            "/content/drive/MyDrive/archive(3).zip (Unzipped Files)/BBC News Summary/Summaries/entertainment/101.txt\n",
            "/content/drive/MyDrive/archive(3).zip (Unzipped Files)/BBC News Summary/Summaries/entertainment/164.txt\n",
            "/content/drive/MyDrive/archive(3).zip (Unzipped Files)/BBC News Summary/Summaries/entertainment/099.txt\n",
            "/content/drive/MyDrive/archive(3).zip (Unzipped Files)/BBC News Summary/Summaries/entertainment/011.txt\n",
            "/content/drive/MyDrive/archive(3).zip (Unzipped Files)/BBC News Summary/Summaries/entertainment/308.txt\n",
            "/content/drive/MyDrive/archive(3).zip (Unzipped Files)/BBC News Summary/Summaries/entertainment/172.txt\n",
            "/content/drive/MyDrive/archive(3).zip (Unzipped Files)/BBC News Summary/Summaries/entertainment/143.txt\n",
            "/content/drive/MyDrive/archive(3).zip (Unzipped Files)/BBC News Summary/Summaries/entertainment/248.txt\n",
            "/content/drive/MyDrive/archive(3).zip (Unzipped Files)/BBC News Summary/Summaries/entertainment/232.txt\n",
            "/content/drive/MyDrive/archive(3).zip (Unzipped Files)/BBC News Summary/Summaries/entertainment/105.txt\n",
            "/content/drive/MyDrive/archive(3).zip (Unzipped Files)/BBC News Summary/Summaries/entertainment/114.txt\n",
            "/content/drive/MyDrive/archive(3).zip (Unzipped Files)/BBC News Summary/Summaries/entertainment/286.txt\n",
            "/content/drive/MyDrive/archive(3).zip (Unzipped Files)/BBC News Summary/Summaries/entertainment/043.txt\n",
            "/content/drive/MyDrive/archive(3).zip (Unzipped Files)/BBC News Summary/Summaries/entertainment/084.txt\n",
            "/content/drive/MyDrive/archive(3).zip (Unzipped Files)/BBC News Summary/Summaries/entertainment/037.txt\n",
            "/content/drive/MyDrive/archive(3).zip (Unzipped Files)/BBC News Summary/Summaries/entertainment/067.txt\n",
            "/content/drive/MyDrive/archive(3).zip (Unzipped Files)/BBC News Summary/Summaries/entertainment/141.txt\n",
            "/content/drive/MyDrive/archive(3).zip (Unzipped Files)/BBC News Summary/Summaries/entertainment/068.txt\n",
            "/content/drive/MyDrive/archive(3).zip (Unzipped Files)/BBC News Summary/Summaries/entertainment/094.txt\n",
            "/content/drive/MyDrive/archive(3).zip (Unzipped Files)/BBC News Summary/Summaries/entertainment/278.txt\n",
            "/content/drive/MyDrive/archive(3).zip (Unzipped Files)/BBC News Summary/Summaries/entertainment/161.txt\n",
            "/content/drive/MyDrive/archive(3).zip (Unzipped Files)/BBC News Summary/Summaries/entertainment/302.txt\n",
            "/content/drive/MyDrive/archive(3).zip (Unzipped Files)/BBC News Summary/Summaries/entertainment/215.txt\n",
            "/content/drive/MyDrive/archive(3).zip (Unzipped Files)/BBC News Summary/Summaries/entertainment/128.txt\n",
            "/content/drive/MyDrive/archive(3).zip (Unzipped Files)/BBC News Summary/Summaries/entertainment/149.txt\n",
            "/content/drive/MyDrive/archive(3).zip (Unzipped Files)/BBC News Summary/Summaries/entertainment/209.txt\n",
            "/content/drive/MyDrive/archive(3).zip (Unzipped Files)/BBC News Summary/Summaries/entertainment/205.txt\n",
            "/content/drive/MyDrive/archive(3).zip (Unzipped Files)/BBC News Summary/Summaries/entertainment/238.txt\n",
            "/content/drive/MyDrive/archive(3).zip (Unzipped Files)/BBC News Summary/Summaries/entertainment/051.txt\n",
            "/content/drive/MyDrive/archive(3).zip (Unzipped Files)/BBC News Summary/Summaries/entertainment/220.txt\n",
            "/content/drive/MyDrive/archive(3).zip (Unzipped Files)/BBC News Summary/Summaries/entertainment/225.txt\n",
            "/content/drive/MyDrive/archive(3).zip (Unzipped Files)/BBC News Summary/Summaries/entertainment/187.txt\n",
            "/content/drive/MyDrive/archive(3).zip (Unzipped Files)/BBC News Summary/Summaries/entertainment/199.txt\n",
            "/content/drive/MyDrive/archive(3).zip (Unzipped Files)/BBC News Summary/Summaries/entertainment/198.txt\n",
            "/content/drive/MyDrive/archive(3).zip (Unzipped Files)/BBC News Summary/Summaries/entertainment/148.txt\n",
            "/content/drive/MyDrive/archive(3).zip (Unzipped Files)/BBC News Summary/Summaries/entertainment/079.txt\n",
            "/content/drive/MyDrive/archive(3).zip (Unzipped Files)/BBC News Summary/Summaries/entertainment/126.txt\n",
            "/content/drive/MyDrive/archive(3).zip (Unzipped Files)/BBC News Summary/Summaries/entertainment/016.txt\n",
            "/content/drive/MyDrive/archive(3).zip (Unzipped Files)/BBC News Summary/Summaries/entertainment/301.txt\n",
            "/content/drive/MyDrive/archive(3).zip (Unzipped Files)/BBC News Summary/Summaries/entertainment/190.txt\n",
            "/content/drive/MyDrive/archive(3).zip (Unzipped Files)/BBC News Summary/Summaries/entertainment/122.txt\n",
            "/content/drive/MyDrive/archive(3).zip (Unzipped Files)/BBC News Summary/Summaries/entertainment/103.txt\n",
            "/content/drive/MyDrive/archive(3).zip (Unzipped Files)/BBC News Summary/Summaries/entertainment/249.txt\n",
            "/content/drive/MyDrive/archive(3).zip (Unzipped Files)/BBC News Summary/Summaries/entertainment/255.txt\n",
            "/content/drive/MyDrive/archive(3).zip (Unzipped Files)/BBC News Summary/Summaries/entertainment/283.txt\n",
            "/content/drive/MyDrive/archive(3).zip (Unzipped Files)/BBC News Summary/Summaries/entertainment/216.txt\n",
            "/content/drive/MyDrive/archive(3).zip (Unzipped Files)/BBC News Summary/Summaries/entertainment/147.txt\n",
            "/content/drive/MyDrive/archive(3).zip (Unzipped Files)/BBC News Summary/Summaries/entertainment/200.txt\n",
            "/content/drive/MyDrive/archive(3).zip (Unzipped Files)/BBC News Summary/Summaries/entertainment/129.txt\n",
            "/content/drive/MyDrive/archive(3).zip (Unzipped Files)/BBC News Summary/Summaries/entertainment/294.txt\n",
            "/content/drive/MyDrive/archive(3).zip (Unzipped Files)/BBC News Summary/Summaries/entertainment/131.txt\n",
            "/content/drive/MyDrive/archive(3).zip (Unzipped Files)/BBC News Summary/Summaries/entertainment/112.txt\n",
            "/content/drive/MyDrive/archive(3).zip (Unzipped Files)/BBC News Summary/Summaries/entertainment/180.txt\n",
            "/content/drive/MyDrive/archive(3).zip (Unzipped Files)/BBC News Summary/Summaries/entertainment/289.txt\n",
            "/content/drive/MyDrive/archive(3).zip (Unzipped Files)/BBC News Summary/Summaries/entertainment/142.txt\n",
            "/content/drive/MyDrive/archive(3).zip (Unzipped Files)/BBC News Summary/Summaries/entertainment/318.txt\n",
            "/content/drive/MyDrive/archive(3).zip (Unzipped Files)/BBC News Summary/Summaries/entertainment/092.txt\n",
            "/content/drive/MyDrive/archive(3).zip (Unzipped Files)/BBC News Summary/Summaries/entertainment/055.txt\n",
            "/content/drive/MyDrive/archive(3).zip (Unzipped Files)/BBC News Summary/Summaries/entertainment/192.txt\n",
            "/content/drive/MyDrive/archive(3).zip (Unzipped Files)/BBC News Summary/Summaries/entertainment/064.txt\n",
            "/content/drive/MyDrive/archive(3).zip (Unzipped Files)/BBC News Summary/Summaries/entertainment/250.txt\n",
            "/content/drive/MyDrive/archive(3).zip (Unzipped Files)/BBC News Summary/Summaries/entertainment/095.txt\n",
            "/content/drive/MyDrive/archive(3).zip (Unzipped Files)/BBC News Summary/Summaries/entertainment/203.txt\n",
            "/content/drive/MyDrive/archive(3).zip (Unzipped Files)/BBC News Summary/Summaries/entertainment/130.txt\n",
            "/content/drive/MyDrive/archive(3).zip (Unzipped Files)/BBC News Summary/Summaries/entertainment/193.txt\n",
            "/content/drive/MyDrive/archive(3).zip (Unzipped Files)/BBC News Summary/Summaries/entertainment/062.txt\n",
            "/content/drive/MyDrive/archive(3).zip (Unzipped Files)/BBC News Summary/Summaries/entertainment/012.txt\n",
            "/content/drive/MyDrive/archive(3).zip (Unzipped Files)/BBC News Summary/Summaries/entertainment/280.txt\n",
            "/content/drive/MyDrive/archive(3).zip (Unzipped Files)/BBC News Summary/Summaries/entertainment/159.txt\n",
            "/content/drive/MyDrive/archive(3).zip (Unzipped Files)/BBC News Summary/Summaries/entertainment/224.txt\n",
            "/content/drive/MyDrive/archive(3).zip (Unzipped Files)/BBC News Summary/Summaries/entertainment/020.txt\n",
            "/content/drive/MyDrive/archive(3).zip (Unzipped Files)/BBC News Summary/Summaries/entertainment/050.txt\n",
            "/content/drive/MyDrive/archive(3).zip (Unzipped Files)/BBC News Summary/Summaries/entertainment/100.txt\n",
            "/content/drive/MyDrive/archive(3).zip (Unzipped Files)/BBC News Summary/Summaries/entertainment/197.txt\n",
            "/content/drive/MyDrive/archive(3).zip (Unzipped Files)/BBC News Summary/Summaries/entertainment/282.txt\n",
            "/content/drive/MyDrive/archive(3).zip (Unzipped Files)/BBC News Summary/Summaries/entertainment/165.txt\n",
            "/content/drive/MyDrive/archive(3).zip (Unzipped Files)/BBC News Summary/Summaries/entertainment/178.txt\n",
            "/content/drive/MyDrive/archive(3).zip (Unzipped Files)/BBC News Summary/Summaries/entertainment/177.txt\n",
            "/content/drive/MyDrive/archive(3).zip (Unzipped Files)/BBC News Summary/Summaries/entertainment/024.txt\n",
            "/content/drive/MyDrive/archive(3).zip (Unzipped Files)/BBC News Summary/Summaries/entertainment/179.txt\n",
            "/content/drive/MyDrive/archive(3).zip (Unzipped Files)/BBC News Summary/Summaries/entertainment/146.txt\n",
            "/content/drive/MyDrive/archive(3).zip (Unzipped Files)/BBC News Summary/Summaries/entertainment/070.txt\n",
            "/content/drive/MyDrive/archive(3).zip (Unzipped Files)/BBC News Summary/Summaries/entertainment/291.txt\n",
            "/content/drive/MyDrive/archive(3).zip (Unzipped Files)/BBC News Summary/Summaries/entertainment/028.txt\n",
            "/content/drive/MyDrive/archive(3).zip (Unzipped Files)/BBC News Summary/Summaries/entertainment/102.txt\n",
            "/content/drive/MyDrive/archive(3).zip (Unzipped Files)/BBC News Summary/Summaries/entertainment/173.txt\n",
            "/content/drive/MyDrive/archive(3).zip (Unzipped Files)/BBC News Summary/Summaries/entertainment/267.txt\n",
            "/content/drive/MyDrive/archive(3).zip (Unzipped Files)/BBC News Summary/Summaries/entertainment/247.txt\n",
            "/content/drive/MyDrive/archive(3).zip (Unzipped Files)/BBC News Summary/Summaries/entertainment/036.txt\n",
            "/content/drive/MyDrive/archive(3).zip (Unzipped Files)/BBC News Summary/Summaries/entertainment/239.txt\n",
            "/content/drive/MyDrive/archive(3).zip (Unzipped Files)/BBC News Summary/Summaries/entertainment/196.txt\n",
            "/content/drive/MyDrive/archive(3).zip (Unzipped Files)/BBC News Summary/Summaries/entertainment/229.txt\n",
            "/content/drive/MyDrive/archive(3).zip (Unzipped Files)/BBC News Summary/Summaries/entertainment/188.txt\n",
            "/content/drive/MyDrive/archive(3).zip (Unzipped Files)/BBC News Summary/Summaries/entertainment/233.txt\n",
            "/content/drive/MyDrive/archive(3).zip (Unzipped Files)/BBC News Summary/Summaries/entertainment/080.txt\n",
            "/content/drive/MyDrive/archive(3).zip (Unzipped Files)/BBC News Summary/Summaries/entertainment/277.txt\n",
            "/content/drive/MyDrive/archive(3).zip (Unzipped Files)/BBC News Summary/Summaries/entertainment/183.txt\n",
            "/content/drive/MyDrive/archive(3).zip (Unzipped Files)/BBC News Summary/Summaries/entertainment/217.txt\n",
            "/content/drive/MyDrive/archive(3).zip (Unzipped Files)/BBC News Summary/Summaries/entertainment/202.txt\n",
            "/content/drive/MyDrive/archive(3).zip (Unzipped Files)/BBC News Summary/Summaries/entertainment/303.txt\n",
            "/content/drive/MyDrive/archive(3).zip (Unzipped Files)/BBC News Summary/Summaries/entertainment/017.txt\n",
            "/content/drive/MyDrive/archive(3).zip (Unzipped Files)/BBC News Summary/Summaries/entertainment/246.txt\n",
            "/content/drive/MyDrive/archive(3).zip (Unzipped Files)/BBC News Summary/Summaries/entertainment/144.txt\n",
            "/content/drive/MyDrive/archive(3).zip (Unzipped Files)/BBC News Summary/Summaries/entertainment/134.txt\n",
            "/content/drive/MyDrive/archive(3).zip (Unzipped Files)/BBC News Summary/Summaries/entertainment/071.txt\n",
            "/content/drive/MyDrive/archive(3).zip (Unzipped Files)/BBC News Summary/Summaries/entertainment/156.txt\n",
            "/content/drive/MyDrive/archive(3).zip (Unzipped Files)/BBC News Summary/Summaries/entertainment/002.txt\n",
            "/content/drive/MyDrive/archive(3).zip (Unzipped Files)/BBC News Summary/Summaries/entertainment/155.txt\n",
            "/content/drive/MyDrive/archive(3).zip (Unzipped Files)/BBC News Summary/Summaries/entertainment/208.txt\n",
            "/content/drive/MyDrive/archive(3).zip (Unzipped Files)/BBC News Summary/Summaries/entertainment/098.txt\n",
            "/content/drive/MyDrive/archive(3).zip (Unzipped Files)/BBC News Summary/Summaries/entertainment/005.txt\n",
            "/content/drive/MyDrive/archive(3).zip (Unzipped Files)/BBC News Summary/Summaries/entertainment/019.txt\n",
            "/content/drive/MyDrive/archive(3).zip (Unzipped Files)/BBC News Summary/Summaries/entertainment/116.txt\n",
            "/content/drive/MyDrive/archive(3).zip (Unzipped Files)/BBC News Summary/Summaries/entertainment/140.txt\n",
            "/content/drive/MyDrive/archive(3).zip (Unzipped Files)/BBC News Summary/Summaries/entertainment/258.txt\n",
            "/content/drive/MyDrive/archive(3).zip (Unzipped Files)/BBC News Summary/Summaries/entertainment/212.txt\n",
            "/content/drive/MyDrive/archive(3).zip (Unzipped Files)/BBC News Summary/Summaries/entertainment/042.txt\n",
            "/content/drive/MyDrive/archive(3).zip (Unzipped Files)/BBC News Summary/Summaries/entertainment/168.txt\n",
            "/content/drive/MyDrive/archive(3).zip (Unzipped Files)/BBC News Summary/Summaries/entertainment/076.txt\n",
            "/content/drive/MyDrive/archive(3).zip (Unzipped Files)/BBC News Summary/Summaries/entertainment/263.txt\n",
            "/content/drive/MyDrive/archive(3).zip (Unzipped Files)/BBC News Summary/Summaries/entertainment/298.txt\n",
            "/content/drive/MyDrive/archive(3).zip (Unzipped Files)/BBC News Summary/Summaries/entertainment/293.txt\n",
            "/content/drive/MyDrive/archive(3).zip (Unzipped Files)/BBC News Summary/Summaries/entertainment/115.txt\n",
            "/content/drive/MyDrive/archive(3).zip (Unzipped Files)/BBC News Summary/Summaries/entertainment/158.txt\n",
            "/content/drive/MyDrive/archive(3).zip (Unzipped Files)/BBC News Summary/Summaries/entertainment/310.txt\n",
            "/content/drive/MyDrive/archive(3).zip (Unzipped Files)/BBC News Summary/Summaries/entertainment/285.txt\n",
            "/content/drive/MyDrive/archive(3).zip (Unzipped Files)/BBC News Summary/Summaries/entertainment/040.txt\n",
            "/content/drive/MyDrive/archive(3).zip (Unzipped Files)/BBC News Summary/Summaries/entertainment/125.txt\n",
            "/content/drive/MyDrive/archive(3).zip (Unzipped Files)/BBC News Summary/Summaries/entertainment/221.txt\n",
            "/content/drive/MyDrive/archive(3).zip (Unzipped Files)/BBC News Summary/Summaries/entertainment/288.txt\n",
            "/content/drive/MyDrive/archive(3).zip (Unzipped Files)/BBC News Summary/Summaries/entertainment/314.txt\n",
            "/content/drive/MyDrive/archive(3).zip (Unzipped Files)/BBC News Summary/Summaries/entertainment/045.txt\n",
            "/content/drive/MyDrive/archive(3).zip (Unzipped Files)/BBC News Summary/Summaries/entertainment/029.txt\n",
            "/content/drive/MyDrive/archive(3).zip (Unzipped Files)/BBC News Summary/Summaries/entertainment/191.txt\n",
            "/content/drive/MyDrive/archive(3).zip (Unzipped Files)/BBC News Summary/Summaries/entertainment/316.txt\n",
            "/content/drive/MyDrive/archive(3).zip (Unzipped Files)/BBC News Summary/Summaries/entertainment/204.txt\n",
            "/content/drive/MyDrive/archive(3).zip (Unzipped Files)/BBC News Summary/Summaries/entertainment/271.txt\n",
            "/content/drive/MyDrive/archive(3).zip (Unzipped Files)/BBC News Summary/Summaries/entertainment/222.txt\n",
            "/content/drive/MyDrive/archive(3).zip (Unzipped Files)/BBC News Summary/Summaries/entertainment/047.txt\n",
            "/content/drive/MyDrive/archive(3).zip (Unzipped Files)/BBC News Summary/Summaries/entertainment/273.txt\n",
            "/content/drive/MyDrive/archive(3).zip (Unzipped Files)/BBC News Summary/Summaries/entertainment/060.txt\n",
            "/content/drive/MyDrive/archive(3).zip (Unzipped Files)/BBC News Summary/Summaries/entertainment/107.txt\n",
            "/content/drive/MyDrive/archive(3).zip (Unzipped Files)/BBC News Summary/Summaries/entertainment/266.txt\n",
            "/content/drive/MyDrive/archive(3).zip (Unzipped Files)/BBC News Summary/Summaries/entertainment/274.txt\n",
            "/content/drive/MyDrive/archive(3).zip (Unzipped Files)/BBC News Summary/Summaries/entertainment/251.txt\n",
            "/content/drive/MyDrive/archive(3).zip (Unzipped Files)/BBC News Summary/Summaries/entertainment/309.txt\n",
            "/content/drive/MyDrive/archive(3).zip (Unzipped Files)/BBC News Summary/Summaries/entertainment/014.txt\n",
            "/content/drive/MyDrive/archive(3).zip (Unzipped Files)/BBC News Summary/Summaries/entertainment/304.txt\n",
            "/content/drive/MyDrive/archive(3).zip (Unzipped Files)/BBC News Summary/Summaries/entertainment/044.txt\n",
            "/content/drive/MyDrive/archive(3).zip (Unzipped Files)/BBC News Summary/Summaries/entertainment/123.txt\n",
            "/content/drive/MyDrive/archive(3).zip (Unzipped Files)/BBC News Summary/Summaries/entertainment/184.txt\n",
            "/content/drive/MyDrive/archive(3).zip (Unzipped Files)/BBC News Summary/Summaries/entertainment/087.txt\n",
            "/content/drive/MyDrive/archive(3).zip (Unzipped Files)/BBC News Summary/Summaries/entertainment/210.txt\n",
            "/content/drive/MyDrive/archive(3).zip (Unzipped Files)/BBC News Summary/Summaries/entertainment/046.txt\n",
            "/content/drive/MyDrive/archive(3).zip (Unzipped Files)/BBC News Summary/Summaries/entertainment/235.txt\n",
            "/content/drive/MyDrive/archive(3).zip (Unzipped Files)/BBC News Summary/Summaries/entertainment/254.txt\n",
            "/content/drive/MyDrive/archive(3).zip (Unzipped Files)/BBC News Summary/Summaries/entertainment/111.txt\n",
            "/content/drive/MyDrive/archive(3).zip (Unzipped Files)/BBC News Summary/Summaries/entertainment/135.txt\n",
            "/content/drive/MyDrive/archive(3).zip (Unzipped Files)/BBC News Summary/Summaries/entertainment/300.txt\n",
            "/content/drive/MyDrive/archive(3).zip (Unzipped Files)/BBC News Summary/Summaries/entertainment/253.txt\n",
            "/content/drive/MyDrive/archive(3).zip (Unzipped Files)/BBC News Summary/Summaries/entertainment/227.txt\n",
            "/content/drive/MyDrive/archive(3).zip (Unzipped Files)/BBC News Summary/Summaries/entertainment/284.txt\n",
            "/content/drive/MyDrive/archive(3).zip (Unzipped Files)/BBC News Summary/Summaries/entertainment/091.txt\n",
            "/content/drive/MyDrive/archive(3).zip (Unzipped Files)/BBC News Summary/Summaries/entertainment/073.txt\n",
            "/content/drive/MyDrive/archive(3).zip (Unzipped Files)/BBC News Summary/Summaries/entertainment/299.txt\n",
            "/content/drive/MyDrive/archive(3).zip (Unzipped Files)/BBC News Summary/Summaries/entertainment/035.txt\n",
            "/content/drive/MyDrive/archive(3).zip (Unzipped Files)/BBC News Summary/Summaries/entertainment/109.txt\n",
            "/content/drive/MyDrive/archive(3).zip (Unzipped Files)/BBC News Summary/Summaries/entertainment/297.txt\n",
            "/content/drive/MyDrive/archive(3).zip (Unzipped Files)/BBC News Summary/Summaries/entertainment/034.txt\n",
            "/content/drive/MyDrive/archive(3).zip (Unzipped Files)/BBC News Summary/Summaries/entertainment/039.txt\n",
            "/content/drive/MyDrive/archive(3).zip (Unzipped Files)/BBC News Summary/Summaries/entertainment/066.txt\n",
            "/content/drive/MyDrive/archive(3).zip (Unzipped Files)/BBC News Summary/Summaries/entertainment/006.txt\n",
            "/content/drive/MyDrive/archive(3).zip (Unzipped Files)/BBC News Summary/Summaries/entertainment/097.txt\n",
            "/content/drive/MyDrive/archive(3).zip (Unzipped Files)/BBC News Summary/Summaries/entertainment/124.txt\n",
            "/content/drive/MyDrive/archive(3).zip (Unzipped Files)/BBC News Summary/Summaries/entertainment/160.txt\n",
            "/content/drive/MyDrive/archive(3).zip (Unzipped Files)/BBC News Summary/Summaries/entertainment/306.txt\n",
            "/content/drive/MyDrive/archive(3).zip (Unzipped Files)/BBC News Summary/Summaries/entertainment/295.txt\n",
            "/content/drive/MyDrive/archive(3).zip (Unzipped Files)/BBC News Summary/Summaries/entertainment/166.txt\n",
            "/content/drive/MyDrive/archive(3).zip (Unzipped Files)/BBC News Summary/Summaries/entertainment/186.txt\n",
            "/content/drive/MyDrive/archive(3).zip (Unzipped Files)/BBC News Summary/Summaries/entertainment/226.txt\n",
            "/content/drive/MyDrive/archive(3).zip (Unzipped Files)/BBC News Summary/Summaries/entertainment/118.txt\n",
            "/content/drive/MyDrive/archive(3).zip (Unzipped Files)/BBC News Summary/Summaries/entertainment/228.txt\n",
            "/content/drive/MyDrive/archive(3).zip (Unzipped Files)/BBC News Summary/Summaries/entertainment/275.txt\n",
            "/content/drive/MyDrive/archive(3).zip (Unzipped Files)/BBC News Summary/Summaries/entertainment/127.txt\n",
            "/content/drive/MyDrive/archive(3).zip (Unzipped Files)/BBC News Summary/Summaries/entertainment/022.txt\n",
            "/content/drive/MyDrive/archive(3).zip (Unzipped Files)/BBC News Summary/Summaries/entertainment/287.txt\n",
            "/content/drive/MyDrive/archive(3).zip (Unzipped Files)/BBC News Summary/Summaries/entertainment/245.txt\n",
            "/content/drive/MyDrive/archive(3).zip (Unzipped Files)/BBC News Summary/Summaries/entertainment/211.txt\n",
            "/content/drive/MyDrive/archive(3).zip (Unzipped Files)/BBC News Summary/Summaries/entertainment/259.txt\n",
            "/content/drive/MyDrive/archive(3).zip (Unzipped Files)/BBC News Summary/Summaries/entertainment/061.txt\n",
            "/content/drive/MyDrive/archive(3).zip (Unzipped Files)/BBC News Summary/Summaries/entertainment/074.txt\n",
            "/content/drive/MyDrive/archive(3).zip (Unzipped Files)/BBC News Summary/Summaries/entertainment/296.txt\n",
            "/content/drive/MyDrive/archive(3).zip (Unzipped Files)/BBC News Summary/Summaries/entertainment/001.txt\n",
            "/content/drive/MyDrive/archive(3).zip (Unzipped Files)/BBC News Summary/Summaries/entertainment/152.txt\n",
            "/content/drive/MyDrive/archive(3).zip (Unzipped Files)/BBC News Summary/Summaries/entertainment/119.txt\n",
            "/content/drive/MyDrive/archive(3).zip (Unzipped Files)/BBC News Summary/Summaries/entertainment/270.txt\n",
            "/content/drive/MyDrive/archive(3).zip (Unzipped Files)/BBC News Summary/Summaries/entertainment/056.txt\n",
            "/content/drive/MyDrive/archive(3).zip (Unzipped Files)/BBC News Summary/Summaries/entertainment/230.txt\n",
            "/content/drive/MyDrive/archive(3).zip (Unzipped Files)/BBC News Summary/Summaries/entertainment/075.txt\n",
            "/content/drive/MyDrive/archive(3).zip (Unzipped Files)/BBC News Summary/Summaries/entertainment/081.txt\n",
            "/content/drive/MyDrive/archive(3).zip (Unzipped Files)/BBC News Summary/Summaries/entertainment/063.txt\n",
            "/content/drive/MyDrive/archive(3).zip (Unzipped Files)/BBC News Summary/Summaries/entertainment/268.txt\n",
            "/content/drive/MyDrive/archive(3).zip (Unzipped Files)/BBC News Summary/Summaries/entertainment/008.txt\n",
            "/content/drive/MyDrive/archive(3).zip (Unzipped Files)/BBC News Summary/Summaries/entertainment/072.txt\n",
            "/content/drive/MyDrive/archive(3).zip (Unzipped Files)/BBC News Summary/Summaries/entertainment/281.txt\n",
            "/content/drive/MyDrive/archive(3).zip (Unzipped Files)/BBC News Summary/Summaries/entertainment/003.txt\n",
            "/content/drive/MyDrive/archive(3).zip (Unzipped Files)/BBC News Summary/Summaries/entertainment/182.txt\n",
            "/content/drive/MyDrive/archive(3).zip (Unzipped Files)/BBC News Summary/Summaries/entertainment/240.txt\n",
            "/content/drive/MyDrive/archive(3).zip (Unzipped Files)/BBC News Summary/Summaries/entertainment/181.txt\n",
            "/content/drive/MyDrive/archive(3).zip (Unzipped Files)/BBC News Summary/Summaries/entertainment/317.txt\n",
            "/content/drive/MyDrive/archive(3).zip (Unzipped Files)/BBC News Summary/Summaries/entertainment/139.txt\n",
            "/content/drive/MyDrive/archive(3).zip (Unzipped Files)/BBC News Summary/Summaries/entertainment/030.txt\n",
            "/content/drive/MyDrive/archive(3).zip (Unzipped Files)/BBC News Summary/Summaries/entertainment/237.txt\n",
            "/content/drive/MyDrive/archive(3).zip (Unzipped Files)/BBC News Summary/Summaries/entertainment/265.txt\n",
            "/content/drive/MyDrive/archive(3).zip (Unzipped Files)/BBC News Summary/Summaries/entertainment/236.txt\n",
            "/content/drive/MyDrive/archive(3).zip (Unzipped Files)/BBC News Summary/Summaries/entertainment/108.txt\n",
            "/content/drive/MyDrive/archive(3).zip (Unzipped Files)/BBC News Summary/Summaries/entertainment/106.txt\n",
            "/content/drive/MyDrive/archive(3).zip (Unzipped Files)/BBC News Summary/Summaries/entertainment/218.txt\n",
            "/content/drive/MyDrive/archive(3).zip (Unzipped Files)/BBC News Summary/Summaries/entertainment/088.txt\n",
            "/content/drive/MyDrive/archive(3).zip (Unzipped Files)/BBC News Summary/Summaries/entertainment/009.txt\n",
            "/content/drive/MyDrive/archive(3).zip (Unzipped Files)/BBC News Summary/Summaries/entertainment/136.txt\n",
            "/content/drive/MyDrive/archive(3).zip (Unzipped Files)/BBC News Summary/Summaries/entertainment/120.txt\n",
            "/content/drive/MyDrive/archive(3).zip (Unzipped Files)/BBC News Summary/Summaries/entertainment/110.txt\n",
            "/content/drive/MyDrive/archive(3).zip (Unzipped Files)/BBC News Summary/Summaries/entertainment/078.txt\n",
            "/content/drive/MyDrive/archive(3).zip (Unzipped Files)/BBC News Summary/Summaries/entertainment/023.txt\n",
            "/content/drive/MyDrive/archive(3).zip (Unzipped Files)/BBC News Summary/Summaries/entertainment/093.txt\n",
            "/content/drive/MyDrive/archive(3).zip (Unzipped Files)/BBC News Summary/Summaries/entertainment/038.txt\n",
            "/content/drive/MyDrive/archive(3).zip (Unzipped Files)/BBC News Summary/Summaries/entertainment/090.txt\n",
            "/content/drive/MyDrive/archive(3).zip (Unzipped Files)/BBC News Summary/Summaries/entertainment/065.txt\n",
            "/content/drive/MyDrive/archive(3).zip (Unzipped Files)/BBC News Summary/Summaries/entertainment/031.txt\n",
            "/content/drive/MyDrive/TM/winemag-data_first150k.csv\n"
          ]
        }
      ]
    },
    {
      "cell_type": "code",
      "source": [
        "import seaborn as sns\n",
        "from matplotlib import pyplot as plt\n",
        "import spacy\n",
        "from tqdm.auto import tqdm\n",
        "import re\n",
        "import string\n",
        "\n",
        "import nltk\n",
        "from nltk.stem.porter import PorterStemmer\n",
        "from nltk.stem import WordNetLemmatizer\n",
        "from nltk.tokenize import word_tokenize\n",
        "\n",
        "from nltk.corpus import stopwords\n",
        "nltk.download('stopwords')\n",
        "stop_words = stopwords.words('english')\n",
        "import html\n",
        "import unicodedata\n",
        "\n",
        "from tensorflow.keras.preprocessing.text import text_to_word_sequence\n",
        "from tensorflow.keras.preprocessing.text import Tokenizer  \n",
        "from tensorflow.keras.preprocessing.sequence import pad_sequences\n",
        "from tensorflow.keras import models\n",
        "from tensorflow.keras import layers\n",
        "from tensorflow.keras import losses\n",
        "from tensorflow.keras import metrics\n",
        "from tensorflow.keras import optimizers\n",
        "from tensorflow.keras.utils import plot_model"
      ],
      "metadata": {
        "execution": {
          "iopub.status.busy": "2022-12-22T10:08:22.404183Z",
          "iopub.execute_input": "2022-12-22T10:08:22.404869Z",
          "iopub.status.idle": "2022-12-22T10:08:35.741530Z",
          "shell.execute_reply.started": "2022-12-22T10:08:22.404834Z",
          "shell.execute_reply": "2022-12-22T10:08:35.740568Z"
        },
        "trusted": true,
        "colab": {
          "base_uri": "https://localhost:8080/"
        },
        "id": "dHHw479AIIYM",
        "outputId": "575d7b6a-f4d4-4d42-ca25-f620268142fb"
      },
      "execution_count": null,
      "outputs": [
        {
          "output_type": "stream",
          "name": "stderr",
          "text": [
            "/usr/local/lib/python3.8/dist-packages/torch/cuda/__init__.py:497: UserWarning: Can't initialize NVML\n",
            "  warnings.warn(\"Can't initialize NVML\")\n",
            "[nltk_data] Downloading package stopwords to /root/nltk_data...\n",
            "[nltk_data]   Unzipping corpora/stopwords.zip.\n"
          ]
        }
      ]
    },
    {
      "cell_type": "code",
      "source": [
        "train = pd.read_csv(\"/content/drive/MyDrive/TC/train.csv\",error_bad_lines=False,engine=\"python\")\n",
        "test = pd.read_csv(\"/content/drive/MyDrive/TC/test.csv\",error_bad_lines=False,engine=\"python\")"
      ],
      "metadata": {
        "execution": {
          "iopub.status.busy": "2022-12-22T10:08:35.743111Z",
          "iopub.execute_input": "2022-12-22T10:08:35.743777Z",
          "iopub.status.idle": "2022-12-22T10:08:38.626430Z",
          "shell.execute_reply.started": "2022-12-22T10:08:35.743741Z",
          "shell.execute_reply": "2022-12-22T10:08:38.625367Z"
        },
        "trusted": true,
        "colab": {
          "base_uri": "https://localhost:8080/"
        },
        "id": "dPRRR3X-IIYP",
        "outputId": "a8765366-5654-4ea9-d17d-e153418e0ea2"
      },
      "execution_count": null,
      "outputs": [
        {
          "output_type": "stream",
          "name": "stderr",
          "text": [
            "/usr/local/lib/python3.8/dist-packages/IPython/core/interactiveshell.py:3326: FutureWarning: The error_bad_lines argument has been deprecated and will be removed in a future version.\n",
            "\n",
            "\n",
            "  exec(code_obj, self.user_global_ns, self.user_ns)\n",
            "Skipping line 14387: unexpected end of data\n",
            "Skipping line 15775: unexpected end of data\n"
          ]
        }
      ]
    },
    {
      "cell_type": "code",
      "source": [
        "train"
      ],
      "metadata": {
        "colab": {
          "base_uri": "https://localhost:8080/",
          "height": 624
        },
        "id": "uVUdU-5BLSVR",
        "outputId": "dd1e18a5-e2c8-4e67-f5cf-57cfdf81049d"
      },
      "execution_count": null,
      "outputs": [
        {
          "output_type": "execute_result",
          "data": {
            "text/plain": [
              "                     id                                       comment_text  \\\n",
              "0      0000997932d777bf  Explanation\\nWhy the edits made under my usern...   \n",
              "1      000103f0d9cfb60f  D'aww! He matches this background colour I'm s...   \n",
              "2      000113f07ec002fd  Hey man, I'm really not trying to edit war. It...   \n",
              "3      0001b41b1c6bb37e  \"\\nMore\\nI can't make any real suggestions on ...   \n",
              "4      0001d958c54c6e35  You, sir, are my hero. Any chance you remember...   \n",
              "...                 ...                                                ...   \n",
              "14380  197398a3efca11e6  \"\\n\\nPakistani Language (Urdu)\\nUrdu in Persia...   \n",
              "14381  197702d8e13970d7                         wikibofh reverted 3 times.   \n",
              "14382  197789bf80c88999  Arjun MBT\\nYou can express your opinion in the...   \n",
              "14383  1978221458932c64  Asimova\\nHi Ymblanter! You know that I edited ...   \n",
              "14384  19783386d2d4be37  \"\\n\\n Eastern Europe \\n\\nThe article says: \"\"F...   \n",
              "\n",
              "       toxic  severe_toxic  obscene  threat  insult  identity_hate  \n",
              "0          0             0        0       0       0              0  \n",
              "1          0             0        0       0       0              0  \n",
              "2          0             0        0       0       0              0  \n",
              "3          0             0        0       0       0              0  \n",
              "4          0             0        0       0       0              0  \n",
              "...      ...           ...      ...     ...     ...            ...  \n",
              "14380      0             0        0       0       0              0  \n",
              "14381      0             0        0       0       0              0  \n",
              "14382      0             0        0       0       0              0  \n",
              "14383      0             0        0       0       0              0  \n",
              "14384      0             0        0       0       0              0  \n",
              "\n",
              "[14385 rows x 8 columns]"
            ],
            "text/html": [
              "\n",
              "  <div id=\"df-62f64c62-3634-420f-ba98-bd07f630e8c0\">\n",
              "    <div class=\"colab-df-container\">\n",
              "      <div>\n",
              "<style scoped>\n",
              "    .dataframe tbody tr th:only-of-type {\n",
              "        vertical-align: middle;\n",
              "    }\n",
              "\n",
              "    .dataframe tbody tr th {\n",
              "        vertical-align: top;\n",
              "    }\n",
              "\n",
              "    .dataframe thead th {\n",
              "        text-align: right;\n",
              "    }\n",
              "</style>\n",
              "<table border=\"1\" class=\"dataframe\">\n",
              "  <thead>\n",
              "    <tr style=\"text-align: right;\">\n",
              "      <th></th>\n",
              "      <th>id</th>\n",
              "      <th>comment_text</th>\n",
              "      <th>toxic</th>\n",
              "      <th>severe_toxic</th>\n",
              "      <th>obscene</th>\n",
              "      <th>threat</th>\n",
              "      <th>insult</th>\n",
              "      <th>identity_hate</th>\n",
              "    </tr>\n",
              "  </thead>\n",
              "  <tbody>\n",
              "    <tr>\n",
              "      <th>0</th>\n",
              "      <td>0000997932d777bf</td>\n",
              "      <td>Explanation\\nWhy the edits made under my usern...</td>\n",
              "      <td>0</td>\n",
              "      <td>0</td>\n",
              "      <td>0</td>\n",
              "      <td>0</td>\n",
              "      <td>0</td>\n",
              "      <td>0</td>\n",
              "    </tr>\n",
              "    <tr>\n",
              "      <th>1</th>\n",
              "      <td>000103f0d9cfb60f</td>\n",
              "      <td>D'aww! He matches this background colour I'm s...</td>\n",
              "      <td>0</td>\n",
              "      <td>0</td>\n",
              "      <td>0</td>\n",
              "      <td>0</td>\n",
              "      <td>0</td>\n",
              "      <td>0</td>\n",
              "    </tr>\n",
              "    <tr>\n",
              "      <th>2</th>\n",
              "      <td>000113f07ec002fd</td>\n",
              "      <td>Hey man, I'm really not trying to edit war. It...</td>\n",
              "      <td>0</td>\n",
              "      <td>0</td>\n",
              "      <td>0</td>\n",
              "      <td>0</td>\n",
              "      <td>0</td>\n",
              "      <td>0</td>\n",
              "    </tr>\n",
              "    <tr>\n",
              "      <th>3</th>\n",
              "      <td>0001b41b1c6bb37e</td>\n",
              "      <td>\"\\nMore\\nI can't make any real suggestions on ...</td>\n",
              "      <td>0</td>\n",
              "      <td>0</td>\n",
              "      <td>0</td>\n",
              "      <td>0</td>\n",
              "      <td>0</td>\n",
              "      <td>0</td>\n",
              "    </tr>\n",
              "    <tr>\n",
              "      <th>4</th>\n",
              "      <td>0001d958c54c6e35</td>\n",
              "      <td>You, sir, are my hero. Any chance you remember...</td>\n",
              "      <td>0</td>\n",
              "      <td>0</td>\n",
              "      <td>0</td>\n",
              "      <td>0</td>\n",
              "      <td>0</td>\n",
              "      <td>0</td>\n",
              "    </tr>\n",
              "    <tr>\n",
              "      <th>...</th>\n",
              "      <td>...</td>\n",
              "      <td>...</td>\n",
              "      <td>...</td>\n",
              "      <td>...</td>\n",
              "      <td>...</td>\n",
              "      <td>...</td>\n",
              "      <td>...</td>\n",
              "      <td>...</td>\n",
              "    </tr>\n",
              "    <tr>\n",
              "      <th>14380</th>\n",
              "      <td>197398a3efca11e6</td>\n",
              "      <td>\"\\n\\nPakistani Language (Urdu)\\nUrdu in Persia...</td>\n",
              "      <td>0</td>\n",
              "      <td>0</td>\n",
              "      <td>0</td>\n",
              "      <td>0</td>\n",
              "      <td>0</td>\n",
              "      <td>0</td>\n",
              "    </tr>\n",
              "    <tr>\n",
              "      <th>14381</th>\n",
              "      <td>197702d8e13970d7</td>\n",
              "      <td>wikibofh reverted 3 times.</td>\n",
              "      <td>0</td>\n",
              "      <td>0</td>\n",
              "      <td>0</td>\n",
              "      <td>0</td>\n",
              "      <td>0</td>\n",
              "      <td>0</td>\n",
              "    </tr>\n",
              "    <tr>\n",
              "      <th>14382</th>\n",
              "      <td>197789bf80c88999</td>\n",
              "      <td>Arjun MBT\\nYou can express your opinion in the...</td>\n",
              "      <td>0</td>\n",
              "      <td>0</td>\n",
              "      <td>0</td>\n",
              "      <td>0</td>\n",
              "      <td>0</td>\n",
              "      <td>0</td>\n",
              "    </tr>\n",
              "    <tr>\n",
              "      <th>14383</th>\n",
              "      <td>1978221458932c64</td>\n",
              "      <td>Asimova\\nHi Ymblanter! You know that I edited ...</td>\n",
              "      <td>0</td>\n",
              "      <td>0</td>\n",
              "      <td>0</td>\n",
              "      <td>0</td>\n",
              "      <td>0</td>\n",
              "      <td>0</td>\n",
              "    </tr>\n",
              "    <tr>\n",
              "      <th>14384</th>\n",
              "      <td>19783386d2d4be37</td>\n",
              "      <td>\"\\n\\n Eastern Europe \\n\\nThe article says: \"\"F...</td>\n",
              "      <td>0</td>\n",
              "      <td>0</td>\n",
              "      <td>0</td>\n",
              "      <td>0</td>\n",
              "      <td>0</td>\n",
              "      <td>0</td>\n",
              "    </tr>\n",
              "  </tbody>\n",
              "</table>\n",
              "<p>14385 rows × 8 columns</p>\n",
              "</div>\n",
              "      <button class=\"colab-df-convert\" onclick=\"convertToInteractive('df-62f64c62-3634-420f-ba98-bd07f630e8c0')\"\n",
              "              title=\"Convert this dataframe to an interactive table.\"\n",
              "              style=\"display:none;\">\n",
              "        \n",
              "  <svg xmlns=\"http://www.w3.org/2000/svg\" height=\"24px\"viewBox=\"0 0 24 24\"\n",
              "       width=\"24px\">\n",
              "    <path d=\"M0 0h24v24H0V0z\" fill=\"none\"/>\n",
              "    <path d=\"M18.56 5.44l.94 2.06.94-2.06 2.06-.94-2.06-.94-.94-2.06-.94 2.06-2.06.94zm-11 1L8.5 8.5l.94-2.06 2.06-.94-2.06-.94L8.5 2.5l-.94 2.06-2.06.94zm10 10l.94 2.06.94-2.06 2.06-.94-2.06-.94-.94-2.06-.94 2.06-2.06.94z\"/><path d=\"M17.41 7.96l-1.37-1.37c-.4-.4-.92-.59-1.43-.59-.52 0-1.04.2-1.43.59L10.3 9.45l-7.72 7.72c-.78.78-.78 2.05 0 2.83L4 21.41c.39.39.9.59 1.41.59.51 0 1.02-.2 1.41-.59l7.78-7.78 2.81-2.81c.8-.78.8-2.07 0-2.86zM5.41 20L4 18.59l7.72-7.72 1.47 1.35L5.41 20z\"/>\n",
              "  </svg>\n",
              "      </button>\n",
              "      \n",
              "  <style>\n",
              "    .colab-df-container {\n",
              "      display:flex;\n",
              "      flex-wrap:wrap;\n",
              "      gap: 12px;\n",
              "    }\n",
              "\n",
              "    .colab-df-convert {\n",
              "      background-color: #E8F0FE;\n",
              "      border: none;\n",
              "      border-radius: 50%;\n",
              "      cursor: pointer;\n",
              "      display: none;\n",
              "      fill: #1967D2;\n",
              "      height: 32px;\n",
              "      padding: 0 0 0 0;\n",
              "      width: 32px;\n",
              "    }\n",
              "\n",
              "    .colab-df-convert:hover {\n",
              "      background-color: #E2EBFA;\n",
              "      box-shadow: 0px 1px 2px rgba(60, 64, 67, 0.3), 0px 1px 3px 1px rgba(60, 64, 67, 0.15);\n",
              "      fill: #174EA6;\n",
              "    }\n",
              "\n",
              "    [theme=dark] .colab-df-convert {\n",
              "      background-color: #3B4455;\n",
              "      fill: #D2E3FC;\n",
              "    }\n",
              "\n",
              "    [theme=dark] .colab-df-convert:hover {\n",
              "      background-color: #434B5C;\n",
              "      box-shadow: 0px 1px 3px 1px rgba(0, 0, 0, 0.15);\n",
              "      filter: drop-shadow(0px 1px 2px rgba(0, 0, 0, 0.3));\n",
              "      fill: #FFFFFF;\n",
              "    }\n",
              "  </style>\n",
              "\n",
              "      <script>\n",
              "        const buttonEl =\n",
              "          document.querySelector('#df-62f64c62-3634-420f-ba98-bd07f630e8c0 button.colab-df-convert');\n",
              "        buttonEl.style.display =\n",
              "          google.colab.kernel.accessAllowed ? 'block' : 'none';\n",
              "\n",
              "        async function convertToInteractive(key) {\n",
              "          const element = document.querySelector('#df-62f64c62-3634-420f-ba98-bd07f630e8c0');\n",
              "          const dataTable =\n",
              "            await google.colab.kernel.invokeFunction('convertToInteractive',\n",
              "                                                     [key], {});\n",
              "          if (!dataTable) return;\n",
              "\n",
              "          const docLinkHtml = 'Like what you see? Visit the ' +\n",
              "            '<a target=\"_blank\" href=https://colab.research.google.com/notebooks/data_table.ipynb>data table notebook</a>'\n",
              "            + ' to learn more about interactive tables.';\n",
              "          element.innerHTML = '';\n",
              "          dataTable['output_type'] = 'display_data';\n",
              "          await google.colab.output.renderOutput(dataTable, element);\n",
              "          const docLink = document.createElement('div');\n",
              "          docLink.innerHTML = docLinkHtml;\n",
              "          element.appendChild(docLink);\n",
              "        }\n",
              "      </script>\n",
              "    </div>\n",
              "  </div>\n",
              "  "
            ]
          },
          "metadata": {},
          "execution_count": 11
        }
      ]
    },
    {
      "cell_type": "code",
      "source": [
        "train[\"comment_text\"][1]"
      ],
      "metadata": {
        "execution": {
          "iopub.status.busy": "2022-12-22T10:08:38.627867Z",
          "iopub.execute_input": "2022-12-22T10:08:38.628235Z",
          "iopub.status.idle": "2022-12-22T10:08:38.643007Z",
          "shell.execute_reply.started": "2022-12-22T10:08:38.628197Z",
          "shell.execute_reply": "2022-12-22T10:08:38.642075Z"
        },
        "trusted": true,
        "colab": {
          "base_uri": "https://localhost:8080/",
          "height": 53
        },
        "id": "0--LISxiIIYR",
        "outputId": "cf3fa9fb-9a99-4fe7-ad15-7f68fde224a5"
      },
      "execution_count": null,
      "outputs": [
        {
          "output_type": "execute_result",
          "data": {
            "text/plain": [
              "\"D'aww! He matches this background colour I'm seemingly stuck with. Thanks.  (talk) 21:51, January 11, 2016 (UTC)\""
            ],
            "application/vnd.google.colaboratory.intrinsic+json": {
              "type": "string"
            }
          },
          "metadata": {},
          "execution_count": 12
        }
      ]
    },
    {
      "cell_type": "markdown",
      "source": [
        "Sample text to visualize"
      ],
      "metadata": {
        "id": "jYqv4pVcIIYR"
      }
    },
    {
      "cell_type": "code",
      "source": [
        "sentence_lengths = [len(sentence) for sentence in train[\"comment_text\"]]\n",
        "plt.hist(sentence_lengths,500)\n",
        "plt.xlabel('Length of comments')\n",
        "plt.show()"
      ],
      "metadata": {
        "execution": {
          "iopub.status.busy": "2022-12-22T10:08:38.646676Z",
          "iopub.execute_input": "2022-12-22T10:08:38.647512Z",
          "iopub.status.idle": "2022-12-22T10:08:40.354026Z",
          "shell.execute_reply.started": "2022-12-22T10:08:38.647476Z",
          "shell.execute_reply": "2022-12-22T10:08:40.353104Z"
        },
        "trusted": true,
        "colab": {
          "base_uri": "https://localhost:8080/",
          "height": 279
        },
        "id": "59-zRoVZIIYT",
        "outputId": "f73a09ea-899b-4a24-ff16-d9f9879d10b3"
      },
      "execution_count": null,
      "outputs": [
        {
          "output_type": "display_data",
          "data": {
            "text/plain": [
              "<Figure size 432x288 with 1 Axes>"
            ],
            "image/png": "[encoded data removed]"
          },
          "metadata": {
            "needs_background": "light"
          }
        }
      ]
    },
    {
      "cell_type": "code",
      "source": [
        "train.columns"
      ],
      "metadata": {
        "execution": {
          "iopub.status.busy": "2022-12-22T10:08:40.355337Z",
          "iopub.execute_input": "2022-12-22T10:08:40.355805Z",
          "iopub.status.idle": "2022-12-22T10:08:40.363236Z",
          "shell.execute_reply.started": "2022-12-22T10:08:40.355759Z",
          "shell.execute_reply": "2022-12-22T10:08:40.362103Z"
        },
        "trusted": true,
        "colab": {
          "base_uri": "https://localhost:8080/"
        },
        "id": "f7Klcrd0IIYU",
        "outputId": "bbb33cae-702c-49bc-e0b8-7186b39f5050"
      },
      "execution_count": null,
      "outputs": [
        {
          "output_type": "execute_result",
          "data": {
            "text/plain": [
              "Index(['id', 'comment_text', 'toxic', 'severe_toxic', 'obscene', 'threat',\n",
              "       'insult', 'identity_hate'],\n",
              "      dtype='object')"
            ]
          },
          "metadata": {},
          "execution_count": 14
        }
      ]
    },
    {
      "cell_type": "code",
      "source": [
        "feature = train.drop(['id', 'comment_text'], axis=1)     ### Removed unnecessary columns - id and comment_text\n",
        "counts = []                                               ### A list that contains tuple which consists of class label and number of comments for that particular class \n",
        "categories = list(feature.columns.values)\n",
        "categories"
      ],
      "metadata": {
        "execution": {
          "iopub.status.busy": "2022-12-22T10:08:40.364891Z",
          "iopub.execute_input": "2022-12-22T10:08:40.365978Z",
          "iopub.status.idle": "2022-12-22T10:08:40.381018Z",
          "shell.execute_reply.started": "2022-12-22T10:08:40.365943Z",
          "shell.execute_reply": "2022-12-22T10:08:40.379779Z"
        },
        "trusted": true,
        "colab": {
          "base_uri": "https://localhost:8080/"
        },
        "id": "sZ3E-datIIYV",
        "outputId": "303d9750-4b6d-479f-f0cb-c3fc64b9d8e6"
      },
      "execution_count": null,
      "outputs": [
        {
          "output_type": "execute_result",
          "data": {
            "text/plain": [
              "['toxic', 'severe_toxic', 'obscene', 'threat', 'insult', 'identity_hate']"
            ]
          },
          "metadata": {},
          "execution_count": 15
        }
      ]
    },
    {
      "cell_type": "code",
      "source": [
        "for i in categories:\n",
        "    counts.append((i, feature[i].sum()))\n",
        "    \n",
        "df_1 = pd.DataFrame(counts, columns=['Feature Labels', 'Total Comments'])   ### Dataframe made up of category and total number of comments\n",
        "df_1.plot(x='Feature Labels', y='Total Comments', kind='bar',figsize=(8,8))\n",
        "plt.title(\"Comments per category\")\n",
        "plt.ylabel('Total comments', fontsize=12)\n",
        "plt.xlabel('Feature Labels', fontsize=12)"
      ],
      "metadata": {
        "execution": {
          "iopub.status.busy": "2022-12-22T10:08:40.382724Z",
          "iopub.execute_input": "2022-12-22T10:08:40.383226Z",
          "iopub.status.idle": "2022-12-22T10:08:40.650953Z",
          "shell.execute_reply.started": "2022-12-22T10:08:40.383192Z",
          "shell.execute_reply": "2022-12-22T10:08:40.650098Z"
        },
        "trusted": true,
        "colab": {
          "base_uri": "https://localhost:8080/",
          "height": 590
        },
        "id": "cBzc9dFFIIYW",
        "outputId": "d63460f2-2dcf-428f-dbed-2c7763f54c75"
      },
      "execution_count": null,
      "outputs": [
        {
          "output_type": "execute_result",
          "data": {
            "text/plain": [
              "Text(0.5, 0, 'Feature Labels')"
            ]
          },
          "metadata": {},
          "execution_count": 16
        },
        {
          "output_type": "display_data",
          "data": {
            "text/plain": [
              "<Figure size 576x576 with 1 Axes>"
            ],
            "image/png": "[encoded data removed]"
          },
          "metadata": {
            "needs_background": "light"
          }
        }
      ]
    },
    {
      "cell_type": "markdown",
      "source": [
        "**Text Preprocessing**"
      ],
      "metadata": {
        "id": "wikCOpIEIIYY"
      }
    },
    {
      "cell_type": "code",
      "source": [
        "nltk.download('omw-1.4')"
      ],
      "metadata": {
        "execution": {
          "iopub.status.busy": "2022-12-22T10:08:40.652519Z",
          "iopub.execute_input": "2022-12-22T10:08:40.652918Z",
          "iopub.status.idle": "2022-12-22T10:08:40.896666Z",
          "shell.execute_reply.started": "2022-12-22T10:08:40.652872Z",
          "shell.execute_reply": "2022-12-22T10:08:40.895385Z"
        },
        "trusted": true,
        "colab": {
          "base_uri": "https://localhost:8080/"
        },
        "id": "FzULwDD-IIYZ",
        "outputId": "25533d6f-97b8-4f18-dcb0-e8747753eed3"
      },
      "execution_count": null,
      "outputs": [
        {
          "output_type": "stream",
          "name": "stderr",
          "text": [
            "[nltk_data] Downloading package omw-1.4 to /root/nltk_data...\n"
          ]
        },
        {
          "output_type": "execute_result",
          "data": {
            "text/plain": [
              "True"
            ]
          },
          "metadata": {},
          "execution_count": 17
        }
      ]
    },
    {
      "cell_type": "code",
      "source": [
        "import nltk\n",
        "nltk.download('punkt')"
      ],
      "metadata": {
        "colab": {
          "base_uri": "https://localhost:8080/"
        },
        "id": "1prcK8NnNPuu",
        "outputId": "a14e4836-fc6a-4eab-88a3-48ae67f8394d"
      },
      "execution_count": null,
      "outputs": [
        {
          "output_type": "stream",
          "name": "stderr",
          "text": [
            "[nltk_data] Downloading package punkt to /root/nltk_data...\n",
            "[nltk_data]   Unzipping tokenizers/punkt.zip.\n"
          ]
        },
        {
          "output_type": "execute_result",
          "data": {
            "text/plain": [
              "True"
            ]
          },
          "metadata": {},
          "execution_count": 19
        }
      ]
    },
    {
      "cell_type": "code",
      "source": [
        "import nltk\n",
        "nltk.download('wordnet')"
      ],
      "metadata": {
        "colab": {
          "base_uri": "https://localhost:8080/"
        },
        "id": "XsOBquI0NYmv",
        "outputId": "4898622b-20b7-44c2-a08f-6f96b68470fa"
      },
      "execution_count": null,
      "outputs": [
        {
          "output_type": "stream",
          "name": "stderr",
          "text": [
            "[nltk_data] Downloading package wordnet to /root/nltk_data...\n"
          ]
        },
        {
          "output_type": "execute_result",
          "data": {
            "text/plain": [
              "True"
            ]
          },
          "metadata": {},
          "execution_count": 21
        }
      ]
    },
    {
      "cell_type": "code",
      "source": [
        "def remove_special_chars(text):\n",
        "    re1 = re.compile(r'  +')\n",
        "    x1 = text.lower().replace('#39;', \"'\").replace('amp;', '&').replace('#146;', \"'\").replace(\n",
        "        'nbsp;', ' ').replace('#36;', '$').replace('\\\\n', \"\\n\").replace('quot;', \"'\").replace(\n",
        "        '<br />', \"\\n\").replace('\\\\\"', '\"').replace('<unk>', 'u_n').replace(' @.@ ', '.').replace(\n",
        "        ' @-@ ', '-').replace('\\\\', ' \\\\ ')\n",
        "    return re1.sub(' ', html.unescape(x1))\n",
        "\n",
        "def to_lowercase(text):\n",
        "    return text.lower()\n",
        "\n",
        "def remove_punctuation(text):\n",
        "    \"\"\"Remove punctuation from list of tokenized words\"\"\"\n",
        "    translator = str.maketrans('', '', string.punctuation)\n",
        "    return text.translate(translator)\n",
        "\n",
        "def replace_numbers(text):\n",
        "    \"\"\"Replace all interger occurrences in list of tokenized words with textual representation\"\"\"\n",
        "    return re.sub(r'\\d+', '', text)\n",
        "\n",
        "def remove_whitespaces(text):\n",
        "    return text.strip()\n",
        "\n",
        "def remove_stopwords(words, stop_words):\n",
        "    return [word for word in words if word not in stop_words]\n",
        "\n",
        "def stem_words(words):\n",
        "    \"\"\"Stem words in text\"\"\"\n",
        "    stemmer = PorterStemmer()\n",
        "    return [stemmer.stem(word) for word in words]\n",
        "\n",
        "def lemmatize_words(words):\n",
        "    \"\"\"Lemmatize words in text\"\"\"\n",
        "\n",
        "    lemmatizer = WordNetLemmatizer()\n",
        "    return [lemmatizer.lemmatize(word) for word in words]\n",
        "\n",
        "def lemmatize_verbs(words):\n",
        "    \"\"\"Lemmatize verbs in text\"\"\"\n",
        "\n",
        "    lemmatizer = WordNetLemmatizer()\n",
        "    return ' '.join([lemmatizer.lemmatize(word, pos='v') for word in words])\n",
        "\n",
        "def text2words(text):\n",
        "    return word_tokenize(text)\n",
        "\n",
        "def clean_text( text):\n",
        "    text = remove_special_chars(text)\n",
        "    text = remove_punctuation(text)\n",
        "    text = to_lowercase(text)\n",
        "    text = replace_numbers(text)\n",
        "    words = text2words(text)\n",
        "    words = remove_stopwords(words, stop_words)\n",
        "    #words = stem_words(words)# Either stem ovocar lemmatize\n",
        "    words = lemmatize_words(words)\n",
        "    words = lemmatize_verbs(words)\n",
        "\n",
        "    return ''.join(words)\n",
        "\n",
        "train['comment_text'] = train['comment_text'].apply(lambda x: clean_text(x))\n",
        "\n",
        "    "
      ],
      "metadata": {
        "execution": {
          "iopub.status.busy": "2022-12-22T10:08:40.898398Z",
          "iopub.execute_input": "2022-12-22T10:08:40.899196Z",
          "iopub.status.idle": "2022-12-22T10:10:37.078039Z",
          "shell.execute_reply.started": "2022-12-22T10:08:40.899166Z",
          "shell.execute_reply": "2022-12-22T10:10:37.077024Z"
        },
        "trusted": true,
        "id": "dVM7RmCDIIYZ"
      },
      "execution_count": null,
      "outputs": []
    },
    {
      "cell_type": "code",
      "source": [
        "train['comment_text'][1]"
      ],
      "metadata": {
        "execution": {
          "iopub.status.busy": "2022-12-22T10:10:37.079695Z",
          "iopub.execute_input": "2022-12-22T10:10:37.080066Z",
          "iopub.status.idle": "2022-12-22T10:10:37.087047Z",
          "shell.execute_reply.started": "2022-12-22T10:10:37.080030Z",
          "shell.execute_reply": "2022-12-22T10:10:37.085911Z"
        },
        "trusted": true,
        "colab": {
          "base_uri": "https://localhost:8080/",
          "height": 35
        },
        "id": "wLj48M-yIIYb",
        "outputId": "65fb617f-3379-4dbd-c425-03acdbd9791b"
      },
      "execution_count": null,
      "outputs": [
        {
          "output_type": "execute_result",
          "data": {
            "text/plain": [
              "'daww match background colour im seemingly stick thank talk january utc'"
            ],
            "application/vnd.google.colaboratory.intrinsic+json": {
              "type": "string"
            }
          },
          "metadata": {},
          "execution_count": 23
        }
      ]
    },
    {
      "cell_type": "code",
      "source": [
        "test['comment_text'] = test['comment_text'].apply(lambda x: clean_text(x))"
      ],
      "metadata": {
        "execution": {
          "iopub.status.busy": "2022-12-22T10:10:37.088724Z",
          "iopub.execute_input": "2022-12-22T10:10:37.089316Z",
          "iopub.status.idle": "2022-12-22T10:12:20.271994Z",
          "shell.execute_reply.started": "2022-12-22T10:10:37.089271Z",
          "shell.execute_reply": "2022-12-22T10:12:20.270710Z"
        },
        "trusted": true,
        "id": "wJlxNyfSIIYb"
      },
      "execution_count": null,
      "outputs": []
    },
    {
      "cell_type": "markdown",
      "source": [
        "**BoW**"
      ],
      "metadata": {
        "id": "4fr85n2UIIYc"
      }
    },
    {
      "cell_type": "code",
      "source": [
        "tok = Tokenizer(num_words=1000, oov_token='UNK')\n",
        "tok.fit_on_texts(train['comment_text'] )\n",
        "# Extract binary BoW features\n",
        "x_train = tok.texts_to_sequences(train['comment_text'])\n",
        "x_test = tok.texts_to_sequences(test['comment_text'])\n",
        "\n",
        "vocab_size = len(tok.word_index) + 1\n",
        "vocab_size"
      ],
      "metadata": {
        "execution": {
          "iopub.status.busy": "2022-12-22T10:12:20.276873Z",
          "iopub.execute_input": "2022-12-22T10:12:20.277605Z",
          "iopub.status.idle": "2022-12-22T10:12:35.302187Z",
          "shell.execute_reply.started": "2022-12-22T10:12:20.277567Z",
          "shell.execute_reply": "2022-12-22T10:12:35.301027Z"
        },
        "trusted": true,
        "colab": {
          "base_uri": "https://localhost:8080/"
        },
        "id": "UcLNjRP1IIYc",
        "outputId": "0d5a01d2-e280-4fb1-bb6b-1f9ff7eb5471"
      },
      "execution_count": null,
      "outputs": [
        {
          "output_type": "execute_result",
          "data": {
            "text/plain": [
              "37030"
            ]
          },
          "metadata": {},
          "execution_count": 25
        }
      ]
    },
    {
      "cell_type": "markdown",
      "source": [
        "**LSTM**"
      ],
      "metadata": {
        "id": "_4WA30C2IIYd"
      }
    },
    {
      "cell_type": "code",
      "source": [
        "maxlen = max([len(t) for t in x_train])\n",
        "maxlen"
      ],
      "metadata": {
        "execution": {
          "iopub.status.busy": "2022-12-22T10:12:35.304019Z",
          "iopub.execute_input": "2022-12-22T10:12:35.304411Z",
          "iopub.status.idle": "2022-12-22T10:12:35.333419Z",
          "shell.execute_reply.started": "2022-12-22T10:12:35.304374Z",
          "shell.execute_reply": "2022-12-22T10:12:35.332561Z"
        },
        "trusted": true,
        "colab": {
          "base_uri": "https://localhost:8080/"
        },
        "id": "8g9ag-uUIIYd",
        "outputId": "dfcd4dec-f4f9-4245-9aa1-0b2f1f0c584c"
      },
      "execution_count": null,
      "outputs": [
        {
          "output_type": "execute_result",
          "data": {
            "text/plain": [
              "1001"
            ]
          },
          "metadata": {},
          "execution_count": 26
        }
      ]
    },
    {
      "cell_type": "code",
      "source": [
        "len(x_train[0])"
      ],
      "metadata": {
        "execution": {
          "iopub.status.busy": "2022-12-22T10:12:35.334794Z",
          "iopub.execute_input": "2022-12-22T10:12:35.335270Z",
          "iopub.status.idle": "2022-12-22T10:12:35.341530Z",
          "shell.execute_reply.started": "2022-12-22T10:12:35.335231Z",
          "shell.execute_reply": "2022-12-22T10:12:35.340591Z"
        },
        "trusted": true,
        "colab": {
          "base_uri": "https://localhost:8080/"
        },
        "id": "R5xF2Tn3IIYd",
        "outputId": "27263987-f5d7-4956-8d52-40fe39946279"
      },
      "execution_count": null,
      "outputs": [
        {
          "output_type": "execute_result",
          "data": {
            "text/plain": [
              "26"
            ]
          },
          "metadata": {},
          "execution_count": 27
        }
      ]
    },
    {
      "cell_type": "code",
      "source": [
        "train['comment_text'][0]"
      ],
      "metadata": {
        "execution": {
          "iopub.status.busy": "2022-12-22T10:12:35.343055Z",
          "iopub.execute_input": "2022-12-22T10:12:35.343711Z",
          "iopub.status.idle": "2022-12-22T10:12:35.352187Z",
          "shell.execute_reply.started": "2022-12-22T10:12:35.343673Z",
          "shell.execute_reply": "2022-12-22T10:12:35.351241Z"
        },
        "trusted": true,
        "colab": {
          "base_uri": "https://localhost:8080/",
          "height": 53
        },
        "id": "gOXRzDoOIIYe",
        "outputId": "110926c8-4e0f-4dfc-ab2e-335e146cc4aa"
      },
      "execution_count": null,
      "outputs": [
        {
          "output_type": "execute_result",
          "data": {
            "text/plain": [
              "'explanation edit make username hardcore metallica fan revert werent vandalism closure gas vote new york doll fac please dont remove template talk page since im retire'"
            ],
            "application/vnd.google.colaboratory.intrinsic+json": {
              "type": "string"
            }
          },
          "metadata": {},
          "execution_count": 28
        }
      ]
    },
    {
      "cell_type": "code",
      "source": [
        "x_train[0]"
      ],
      "metadata": {
        "execution": {
          "iopub.status.busy": "2022-12-22T10:12:35.353578Z",
          "iopub.execute_input": "2022-12-22T10:12:35.354333Z",
          "iopub.status.idle": "2022-12-22T10:12:35.363161Z",
          "shell.execute_reply.started": "2022-12-22T10:12:35.354297Z",
          "shell.execute_reply": "2022-12-22T10:12:35.362082Z"
        },
        "trusted": true,
        "colab": {
          "base_uri": "https://localhost:8080/"
        },
        "id": "nTX0o8k5IIYe",
        "outputId": "b3a50843-84b8-485f-9edc-43d65f9b3259"
      },
      "execution_count": null,
      "outputs": [
        {
          "output_type": "execute_result",
          "data": {
            "text/plain": [
              "[413,\n",
              " 4,\n",
              " 8,\n",
              " 499,\n",
              " 1,\n",
              " 1,\n",
              " 286,\n",
              " 69,\n",
              " 1,\n",
              " 152,\n",
              " 1,\n",
              " 1,\n",
              " 456,\n",
              " 67,\n",
              " 1,\n",
              " 1,\n",
              " 1,\n",
              " 12,\n",
              " 15,\n",
              " 40,\n",
              " 262,\n",
              " 7,\n",
              " 3,\n",
              " 79,\n",
              " 23,\n",
              " 1]"
            ]
          },
          "metadata": {},
          "execution_count": 29
        }
      ]
    },
    {
      "cell_type": "code",
      "source": [
        "train[['toxic' ,'severe_toxic' ,'obscene' ,'threat' ,'insult' ,'identity_hate']].sum()"
      ],
      "metadata": {
        "execution": {
          "iopub.status.busy": "2022-12-22T10:12:35.364741Z",
          "iopub.execute_input": "2022-12-22T10:12:35.365172Z",
          "iopub.status.idle": "2022-12-22T10:12:35.378732Z",
          "shell.execute_reply.started": "2022-12-22T10:12:35.365139Z",
          "shell.execute_reply": "2022-12-22T10:12:35.377660Z"
        },
        "trusted": true,
        "colab": {
          "base_uri": "https://localhost:8080/"
        },
        "id": "7C39T9Z5IIYe",
        "outputId": "44dde185-4a76-4cd5-a412-0e3516be14c5"
      },
      "execution_count": null,
      "outputs": [
        {
          "output_type": "execute_result",
          "data": {
            "text/plain": [
              "toxic            1348\n",
              "severe_toxic      144\n",
              "obscene           732\n",
              "threat             43\n",
              "insult            683\n",
              "identity_hate     120\n",
              "dtype: int64"
            ]
          },
          "metadata": {},
          "execution_count": 30
        }
      ]
    },
    {
      "cell_type": "code",
      "source": [
        "training_padded = pad_sequences(x_train,\n",
        "                                maxlen=50, \n",
        "                                truncating='post', \n",
        "                                padding='post'\n",
        "                               )\n",
        "test_padded = pad_sequences(x_test,\n",
        "                            maxlen=50, \n",
        "                            truncating='post', \n",
        "                            padding='post'\n",
        "                               )"
      ],
      "metadata": {
        "execution": {
          "iopub.status.busy": "2022-12-22T10:12:35.380226Z",
          "iopub.execute_input": "2022-12-22T10:12:35.380628Z",
          "iopub.status.idle": "2022-12-22T10:12:36.275416Z",
          "shell.execute_reply.started": "2022-12-22T10:12:35.380596Z",
          "shell.execute_reply": "2022-12-22T10:12:36.274447Z"
        },
        "trusted": true,
        "id": "JJGtzM8OIIYe"
      },
      "execution_count": null,
      "outputs": []
    },
    {
      "cell_type": "code",
      "source": [
        "training_padded[0]"
      ],
      "metadata": {
        "execution": {
          "iopub.status.busy": "2022-12-22T10:12:36.276750Z",
          "iopub.execute_input": "2022-12-22T10:12:36.277211Z",
          "iopub.status.idle": "2022-12-22T10:12:36.285587Z",
          "shell.execute_reply.started": "2022-12-22T10:12:36.277170Z",
          "shell.execute_reply": "2022-12-22T10:12:36.284658Z"
        },
        "trusted": true,
        "colab": {
          "base_uri": "https://localhost:8080/"
        },
        "id": "EXYj2ICUIIYf",
        "outputId": "ec0d13b6-6b2b-4215-918c-c655f55bbd98"
      },
      "execution_count": null,
      "outputs": [
        {
          "output_type": "execute_result",
          "data": {
            "text/plain": [
              "array([413,   4,   8, 499,   1,   1, 286,  69,   1, 152,   1,   1, 456,\n",
              "        67,   1,   1,   1,  12,  15,  40, 262,   7,   3,  79,  23,   1,\n",
              "         0,   0,   0,   0,   0,   0,   0,   0,   0,   0,   0,   0,   0,\n",
              "         0,   0,   0,   0,   0,   0,   0,   0,   0,   0,   0], dtype=int32)"
            ]
          },
          "metadata": {},
          "execution_count": 32
        }
      ]
    },
    {
      "cell_type": "code",
      "source": [
        "model = models.Sequential()\n",
        "model.add(layers.Embedding(vocab_size, 128, input_length=50))\n",
        "model.add(layers.LSTM(512, dropout=0.2, recurrent_dropout=0.2, return_sequences=True))\n",
        "model.add(layers.LSTM(128, dropout=0.2,recurrent_dropout=0.2))\n",
        "model.add(layers.Dense(16, activation='relu'))\n",
        "model.add(layers.Dense(6, activation='sigmoid'))\n",
        "\n",
        "\n",
        "\n",
        "model.compile(\n",
        "    loss='binary_crossentropy',\n",
        "    optimizer='Adam',\n",
        "    metrics=['accuracy'])\n",
        "\n",
        "model.summary()"
      ],
      "metadata": {
        "execution": {
          "iopub.status.busy": "2022-12-22T10:12:36.286980Z",
          "iopub.execute_input": "2022-12-22T10:12:36.287956Z",
          "iopub.status.idle": "2022-12-22T10:12:45.079565Z",
          "shell.execute_reply.started": "2022-12-22T10:12:36.287922Z",
          "shell.execute_reply": "2022-12-22T10:12:45.078674Z"
        },
        "trusted": true,
        "colab": {
          "base_uri": "https://localhost:8080/"
        },
        "id": "yULRDeXAIIYf",
        "outputId": "22b4f9d4-85bd-47b5-f496-c7035b89f9fb"
      },
      "execution_count": null,
      "outputs": [
        {
          "output_type": "stream",
          "name": "stdout",
          "text": [
            "Model: \"sequential\"\n",
            "_________________________________________________________________\n",
            " Layer (type)                Output Shape              Param #   \n",
            "=================================================================\n",
            " embedding (Embedding)       (None, 50, 128)           4739840   \n",
            "                                                                 \n",
            " lstm (LSTM)                 (None, 50, 512)           1312768   \n",
            "                                                                 \n",
            " lstm_1 (LSTM)               (None, 128)               328192    \n",
            "                                                                 \n",
            " dense (Dense)               (None, 16)                2064      \n",
            "                                                                 \n",
            " dense_1 (Dense)             (None, 6)                 102       \n",
            "                                                                 \n",
            "=================================================================\n",
            "Total params: 6,382,966\n",
            "Trainable params: 6,382,966\n",
            "Non-trainable params: 0\n",
            "_________________________________________________________________\n"
          ]
        }
      ]
    },
    {
      "cell_type": "code",
      "source": [
        "history = model.fit(training_padded,\n",
        "                     train[['toxic' ,'severe_toxic' ,'obscene' ,'threat' ,'insult' ,'identity_hate']],\n",
        "                    epochs=5,\n",
        "                    batch_size=512,\n",
        "                   validation_split=0.2)"
      ],
      "metadata": {
        "execution": {
          "iopub.status.busy": "2022-12-22T10:12:45.081064Z",
          "iopub.execute_input": "2022-12-22T10:12:45.081397Z",
          "iopub.status.idle": "2022-12-22T10:22:10.903253Z",
          "shell.execute_reply.started": "2022-12-22T10:12:45.081363Z",
          "shell.execute_reply": "2022-12-22T10:22:10.901842Z"
        },
        "trusted": true,
        "colab": {
          "base_uri": "https://localhost:8080/"
        },
        "id": "bfwbRxvuIIYg",
        "outputId": "072721d6-302a-40c7-f37d-0c74bf5480d5"
      },
      "execution_count": null,
      "outputs": [
        {
          "output_type": "stream",
          "name": "stdout",
          "text": [
            "Epoch 1/5\n",
            "23/23 [==============================] - 196s 8s/step - loss: 0.2550 - accuracy: 0.6403 - val_loss: 0.1299 - val_accuracy: 0.9958\n",
            "Epoch 2/5\n",
            "23/23 [==============================] - 181s 8s/step - loss: 0.1409 - accuracy: 0.9945 - val_loss: 0.1294 - val_accuracy: 0.9958\n",
            "Epoch 3/5\n",
            "23/23 [==============================] - 178s 8s/step - loss: 0.1404 - accuracy: 0.9945 - val_loss: 0.1294 - val_accuracy: 0.9958\n",
            "Epoch 4/5\n",
            "23/23 [==============================] - 183s 8s/step - loss: 0.1404 - accuracy: 0.9945 - val_loss: 0.1293 - val_accuracy: 0.9958\n",
            "Epoch 5/5\n",
            "23/23 [==============================] - 179s 8s/step - loss: 0.1403 - accuracy: 0.9945 - val_loss: 0.1292 - val_accuracy: 0.9958\n"
          ]
        }
      ]
    },
    {
      "cell_type": "code",
      "source": [
        "history_dict = history.history\n",
        "history_dict.keys()\n",
        "acc = history.history['accuracy']\n",
        "val_acc = history.history['val_accuracy']\n",
        "loss = history.history['loss']\n",
        "val_loss = history.history['val_loss']"
      ],
      "metadata": {
        "execution": {
          "iopub.status.busy": "2022-12-22T10:22:10.906519Z",
          "iopub.execute_input": "2022-12-22T10:22:10.907518Z",
          "iopub.status.idle": "2022-12-22T10:22:10.913113Z",
          "shell.execute_reply.started": "2022-12-22T10:22:10.907479Z",
          "shell.execute_reply": "2022-12-22T10:22:10.912070Z"
        },
        "trusted": true,
        "id": "pEPzpuzpIIYg"
      },
      "execution_count": null,
      "outputs": []
    },
    {
      "cell_type": "code",
      "source": [
        "epochs = range(1, len(acc) + 1)\n",
        "\n",
        "# \"bo\" is for \"blue dot\"\n",
        "plt.plot(epochs, loss, 'bo', label='Training loss')\n",
        "# b is for \"solid blue line\"\n",
        "plt.plot(epochs, val_loss, 'b', label='Validation loss')\n",
        "plt.title('Training and validation loss')\n",
        "plt.xlabel('Epochs')\n",
        "plt.ylabel('Loss')\n",
        "plt.legend()"
      ],
      "metadata": {
        "execution": {
          "iopub.status.busy": "2022-12-22T10:22:10.915334Z",
          "iopub.execute_input": "2022-12-22T10:22:10.916083Z",
          "iopub.status.idle": "2022-12-22T10:22:11.148510Z",
          "shell.execute_reply.started": "2022-12-22T10:22:10.916047Z",
          "shell.execute_reply": "2022-12-22T10:22:11.147533Z"
        },
        "trusted": true,
        "colab": {
          "base_uri": "https://localhost:8080/",
          "height": 313
        },
        "id": "kWLQs51YIIYg",
        "outputId": "ea350e47-8ca3-47a2-e7bf-cf6184f53b31"
      },
      "execution_count": null,
      "outputs": [
        {
          "output_type": "execute_result",
          "data": {
            "text/plain": [
              "<matplotlib.legend.Legend at 0x7f6785e4a790>"
            ]
          },
          "metadata": {},
          "execution_count": 36
        },
        {
          "output_type": "display_data",
          "data": {
            "text/plain": [
              "<Figure size 432x288 with 1 Axes>"
            ],
            "image/png": "[encoded data removed]"
          },
          "metadata": {
            "needs_background": "light"
          }
        }
      ]
    },
    {
      "cell_type": "code",
      "source": [
        "plt.plot(epochs, acc, 'bo', label='Training accuracy')\n",
        "plt.plot(epochs, val_acc, 'b', label='Validation accuracy')\n",
        "plt.title('Training and validation accuracy')\n",
        "plt.xlabel('Epochs')\n",
        "plt.ylabel('roc_auc')\n",
        "plt.legend()\n",
        "\n",
        "plt.show()"
      ],
      "metadata": {
        "execution": {
          "iopub.status.busy": "2022-12-22T10:22:11.149699Z",
          "iopub.execute_input": "2022-12-22T10:22:11.150037Z",
          "iopub.status.idle": "2022-12-22T10:22:11.366529Z",
          "shell.execute_reply.started": "2022-12-22T10:22:11.150002Z",
          "shell.execute_reply": "2022-12-22T10:22:11.365670Z"
        },
        "trusted": true,
        "colab": {
          "base_uri": "https://localhost:8080/",
          "height": 295
        },
        "id": "pGFrM2MgIIYh",
        "outputId": "266ec079-7310-44a8-8b25-848129a76cdf"
      },
      "execution_count": null,
      "outputs": [
        {
          "output_type": "display_data",
          "data": {
            "text/plain": [
              "<Figure size 432x288 with 1 Axes>"
            ],
            "image/png": "[encoded data removed]"
          },
          "metadata": {
            "needs_background": "light"
          }
        }
      ]
    },
    {
      "cell_type": "code",
      "source": [
        "preds = model.predict(test_padded)\n",
        "preds"
      ],
      "metadata": {
        "execution": {
          "iopub.status.busy": "2022-12-22T10:22:11.367810Z",
          "iopub.execute_input": "2022-12-22T10:22:11.368125Z",
          "iopub.status.idle": "2022-12-22T10:24:33.677577Z",
          "shell.execute_reply.started": "2022-12-22T10:22:11.368099Z",
          "shell.execute_reply": "2022-12-22T10:24:33.676536Z"
        },
        "trusted": true,
        "colab": {
          "base_uri": "https://localhost:8080/"
        },
        "id": "XXv7yN0zIIYi",
        "outputId": "e25d9674-82d5-4412-9699-a9d369dd92f3"
      },
      "execution_count": null,
      "outputs": [
        {
          "output_type": "stream",
          "name": "stdout",
          "text": [
            "493/493 [==============================] - 151s 304ms/step\n"
          ]
        },
        {
          "output_type": "execute_result",
          "data": {
            "text/plain": [
              "array([[0.09289158, 0.01003012, 0.05152996, 0.00258932, 0.04888925,\n",
              "        0.00867581],\n",
              "       [0.09289148, 0.01003013, 0.05153002, 0.00258932, 0.04888928,\n",
              "        0.00867579],\n",
              "       [0.09289148, 0.01003013, 0.05153002, 0.00258932, 0.04888928,\n",
              "        0.00867579],\n",
              "       ...,\n",
              "       [0.09289169, 0.01002857, 0.05151942, 0.00258924, 0.04889888,\n",
              "        0.00867527],\n",
              "       [0.09289148, 0.01003013, 0.05153002, 0.00258932, 0.04888928,\n",
              "        0.00867579],\n",
              "       [0.09289147, 0.01003013, 0.05153001, 0.00258932, 0.04888928,\n",
              "        0.00867579]], dtype=float32)"
            ]
          },
          "metadata": {},
          "execution_count": 38
        }
      ]
    },
    {
      "cell_type": "code",
      "source": [
        "test.head()"
      ],
      "metadata": {
        "execution": {
          "iopub.status.busy": "2022-12-22T10:24:33.679285Z",
          "iopub.execute_input": "2022-12-22T10:24:33.679966Z",
          "iopub.status.idle": "2022-12-22T10:24:33.692294Z",
          "shell.execute_reply.started": "2022-12-22T10:24:33.679928Z",
          "shell.execute_reply": "2022-12-22T10:24:33.691289Z"
        },
        "trusted": true,
        "colab": {
          "base_uri": "https://localhost:8080/",
          "height": 206
        },
        "id": "Og32ztkBIIYi",
        "outputId": "bf52943f-4e6b-4f7f-c5ea-27f95d3e03b3"
      },
      "execution_count": null,
      "outputs": [
        {
          "output_type": "execute_result",
          "data": {
            "text/plain": [
              "                 id                                       comment_text\n",
              "0  00001cee341fdb12  yo bitch ja rule succesful youll ever whats ha...\n",
              "1  0000247867823ef7                                 rfc title fine imo\n",
              "2  00013b17ad220c46                       source zawe ashton lapland —\n",
              "3  00017563c3f7919a  look back source information update correct fo...\n",
              "4  00017695ad8997eb                      dont anonymously edit article"
            ],
            "text/html": [
              "\n",
              "  <div id=\"df-83b61e14-85e9-4aba-8f9e-4949ca7a3417\">\n",
              "    <div class=\"colab-df-container\">\n",
              "      <div>\n",
              "<style scoped>\n",
              "    .dataframe tbody tr th:only-of-type {\n",
              "        vertical-align: middle;\n",
              "    }\n",
              "\n",
              "    .dataframe tbody tr th {\n",
              "        vertical-align: top;\n",
              "    }\n",
              "\n",
              "    .dataframe thead th {\n",
              "        text-align: right;\n",
              "    }\n",
              "</style>\n",
              "<table border=\"1\" class=\"dataframe\">\n",
              "  <thead>\n",
              "    <tr style=\"text-align: right;\">\n",
              "      <th></th>\n",
              "      <th>id</th>\n",
              "      <th>comment_text</th>\n",
              "    </tr>\n",
              "  </thead>\n",
              "  <tbody>\n",
              "    <tr>\n",
              "      <th>0</th>\n",
              "      <td>00001cee341fdb12</td>\n",
              "      <td>yo bitch ja rule succesful youll ever whats ha...</td>\n",
              "    </tr>\n",
              "    <tr>\n",
              "      <th>1</th>\n",
              "      <td>0000247867823ef7</td>\n",
              "      <td>rfc title fine imo</td>\n",
              "    </tr>\n",
              "    <tr>\n",
              "      <th>2</th>\n",
              "      <td>00013b17ad220c46</td>\n",
              "      <td>source zawe ashton lapland —</td>\n",
              "    </tr>\n",
              "    <tr>\n",
              "      <th>3</th>\n",
              "      <td>00017563c3f7919a</td>\n",
              "      <td>look back source information update correct fo...</td>\n",
              "    </tr>\n",
              "    <tr>\n",
              "      <th>4</th>\n",
              "      <td>00017695ad8997eb</td>\n",
              "      <td>dont anonymously edit article</td>\n",
              "    </tr>\n",
              "  </tbody>\n",
              "</table>\n",
              "</div>\n",
              "      <button class=\"colab-df-convert\" onclick=\"convertToInteractive('df-83b61e14-85e9-4aba-8f9e-4949ca7a3417')\"\n",
              "              title=\"Convert this dataframe to an interactive table.\"\n",
              "              style=\"display:none;\">\n",
              "        \n",
              "  <svg xmlns=\"http://www.w3.org/2000/svg\" height=\"24px\"viewBox=\"0 0 24 24\"\n",
              "       width=\"24px\">\n",
              "    <path d=\"M0 0h24v24H0V0z\" fill=\"none\"/>\n",
              "    <path d=\"M18.56 5.44l.94 2.06.94-2.06 2.06-.94-2.06-.94-.94-2.06-.94 2.06-2.06.94zm-11 1L8.5 8.5l.94-2.06 2.06-.94-2.06-.94L8.5 2.5l-.94 2.06-2.06.94zm10 10l.94 2.06.94-2.06 2.06-.94-2.06-.94-.94-2.06-.94 2.06-2.06.94z\"/><path d=\"M17.41 7.96l-1.37-1.37c-.4-.4-.92-.59-1.43-.59-.52 0-1.04.2-1.43.59L10.3 9.45l-7.72 7.72c-.78.78-.78 2.05 0 2.83L4 21.41c.39.39.9.59 1.41.59.51 0 1.02-.2 1.41-.59l7.78-7.78 2.81-2.81c.8-.78.8-2.07 0-2.86zM5.41 20L4 18.59l7.72-7.72 1.47 1.35L5.41 20z\"/>\n",
              "  </svg>\n",
              "      </button>\n",
              "      \n",
              "  <style>\n",
              "    .colab-df-container {\n",
              "      display:flex;\n",
              "      flex-wrap:wrap;\n",
              "      gap: 12px;\n",
              "    }\n",
              "\n",
              "    .colab-df-convert {\n",
              "      background-color: #E8F0FE;\n",
              "      border: none;\n",
              "      border-radius: 50%;\n",
              "      cursor: pointer;\n",
              "      display: none;\n",
              "      fill: #1967D2;\n",
              "      height: 32px;\n",
              "      padding: 0 0 0 0;\n",
              "      width: 32px;\n",
              "    }\n",
              "\n",
              "    .colab-df-convert:hover {\n",
              "      background-color: #E2EBFA;\n",
              "      box-shadow: 0px 1px 2px rgba(60, 64, 67, 0.3), 0px 1px 3px 1px rgba(60, 64, 67, 0.15);\n",
              "      fill: #174EA6;\n",
              "    }\n",
              "\n",
              "    [theme=dark] .colab-df-convert {\n",
              "      background-color: #3B4455;\n",
              "      fill: #D2E3FC;\n",
              "    }\n",
              "\n",
              "    [theme=dark] .colab-df-convert:hover {\n",
              "      background-color: #434B5C;\n",
              "      box-shadow: 0px 1px 3px 1px rgba(0, 0, 0, 0.15);\n",
              "      filter: drop-shadow(0px 1px 2px rgba(0, 0, 0, 0.3));\n",
              "      fill: #FFFFFF;\n",
              "    }\n",
              "  </style>\n",
              "\n",
              "      <script>\n",
              "        const buttonEl =\n",
              "          document.querySelector('#df-83b61e14-85e9-4aba-8f9e-4949ca7a3417 button.colab-df-convert');\n",
              "        buttonEl.style.display =\n",
              "          google.colab.kernel.accessAllowed ? 'block' : 'none';\n",
              "\n",
              "        async function convertToInteractive(key) {\n",
              "          const element = document.querySelector('#df-83b61e14-85e9-4aba-8f9e-4949ca7a3417');\n",
              "          const dataTable =\n",
              "            await google.colab.kernel.invokeFunction('convertToInteractive',\n",
              "                                                     [key], {});\n",
              "          if (!dataTable) return;\n",
              "\n",
              "          const docLinkHtml = 'Like what you see? Visit the ' +\n",
              "            '<a target=\"_blank\" href=https://colab.research.google.com/notebooks/data_table.ipynb>data table notebook</a>'\n",
              "            + ' to learn more about interactive tables.';\n",
              "          element.innerHTML = '';\n",
              "          dataTable['output_type'] = 'display_data';\n",
              "          await google.colab.output.renderOutput(dataTable, element);\n",
              "          const docLink = document.createElement('div');\n",
              "          docLink.innerHTML = docLinkHtml;\n",
              "          element.appendChild(docLink);\n",
              "        }\n",
              "      </script>\n",
              "    </div>\n",
              "  </div>\n",
              "  "
            ]
          },
          "metadata": {},
          "execution_count": 39
        }
      ]
    },
    {
      "cell_type": "code",
      "source": [
        "final = pd.DataFrame()\n",
        "columns = ['toxic' ,'severe_toxic' ,'obscene' ,'threat' ,'insult' ,'identity_hate']\n",
        "final['id'] = test['id']\n",
        "final[columns] = preds"
      ],
      "metadata": {
        "execution": {
          "iopub.status.busy": "2022-12-22T10:24:33.693715Z",
          "iopub.execute_input": "2022-12-22T10:24:33.694284Z",
          "iopub.status.idle": "2022-12-22T10:24:33.717498Z",
          "shell.execute_reply.started": "2022-12-22T10:24:33.694249Z",
          "shell.execute_reply": "2022-12-22T10:24:33.716660Z"
        },
        "trusted": true,
        "id": "z6Yo2wLGIIYj"
      },
      "execution_count": null,
      "outputs": []
    },
    {
      "cell_type": "code",
      "source": [
        "final.head()"
      ],
      "metadata": {
        "execution": {
          "iopub.status.busy": "2022-12-22T10:24:33.718929Z",
          "iopub.execute_input": "2022-12-22T10:24:33.719283Z",
          "iopub.status.idle": "2022-12-22T10:24:33.731991Z",
          "shell.execute_reply.started": "2022-12-22T10:24:33.719249Z",
          "shell.execute_reply": "2022-12-22T10:24:33.731018Z"
        },
        "trusted": true,
        "colab": {
          "base_uri": "https://localhost:8080/",
          "height": 206
        },
        "id": "5v8MTM9aIIYj",
        "outputId": "0addbf46-63c2-4c65-cea2-651da64845f6"
      },
      "execution_count": null,
      "outputs": [
        {
          "output_type": "execute_result",
          "data": {
            "text/plain": [
              "                 id     toxic  severe_toxic  obscene    threat    insult  \\\n",
              "0  00001cee341fdb12  0.092892       0.01003  0.05153  0.002589  0.048889   \n",
              "1  0000247867823ef7  0.092891       0.01003  0.05153  0.002589  0.048889   \n",
              "2  00013b17ad220c46  0.092891       0.01003  0.05153  0.002589  0.048889   \n",
              "3  00017563c3f7919a  0.092891       0.01003  0.05153  0.002589  0.048889   \n",
              "4  00017695ad8997eb  0.092891       0.01003  0.05153  0.002589  0.048889   \n",
              "\n",
              "   identity_hate  \n",
              "0       0.008676  \n",
              "1       0.008676  \n",
              "2       0.008676  \n",
              "3       0.008676  \n",
              "4       0.008676  "
            ],
            "text/html": [
              "\n",
              "  <div id=\"df-4971f2a6-b56f-478b-8b2d-caaca1c12a52\">\n",
              "    <div class=\"colab-df-container\">\n",
              "      <div>\n",
              "<style scoped>\n",
              "    .dataframe tbody tr th:only-of-type {\n",
              "        vertical-align: middle;\n",
              "    }\n",
              "\n",
              "    .dataframe tbody tr th {\n",
              "        vertical-align: top;\n",
              "    }\n",
              "\n",
              "    .dataframe thead th {\n",
              "        text-align: right;\n",
              "    }\n",
              "</style>\n",
              "<table border=\"1\" class=\"dataframe\">\n",
              "  <thead>\n",
              "    <tr style=\"text-align: right;\">\n",
              "      <th></th>\n",
              "      <th>id</th>\n",
              "      <th>toxic</th>\n",
              "      <th>severe_toxic</th>\n",
              "      <th>obscene</th>\n",
              "      <th>threat</th>\n",
              "      <th>insult</th>\n",
              "      <th>identity_hate</th>\n",
              "    </tr>\n",
              "  </thead>\n",
              "  <tbody>\n",
              "    <tr>\n",
              "      <th>0</th>\n",
              "      <td>00001cee341fdb12</td>\n",
              "      <td>0.092892</td>\n",
              "      <td>0.01003</td>\n",
              "      <td>0.05153</td>\n",
              "      <td>0.002589</td>\n",
              "      <td>0.048889</td>\n",
              "      <td>0.008676</td>\n",
              "    </tr>\n",
              "    <tr>\n",
              "      <th>1</th>\n",
              "      <td>0000247867823ef7</td>\n",
              "      <td>0.092891</td>\n",
              "      <td>0.01003</td>\n",
              "      <td>0.05153</td>\n",
              "      <td>0.002589</td>\n",
              "      <td>0.048889</td>\n",
              "      <td>0.008676</td>\n",
              "    </tr>\n",
              "    <tr>\n",
              "      <th>2</th>\n",
              "      <td>00013b17ad220c46</td>\n",
              "      <td>0.092891</td>\n",
              "      <td>0.01003</td>\n",
              "      <td>0.05153</td>\n",
              "      <td>0.002589</td>\n",
              "      <td>0.048889</td>\n",
              "      <td>0.008676</td>\n",
              "    </tr>\n",
              "    <tr>\n",
              "      <th>3</th>\n",
              "      <td>00017563c3f7919a</td>\n",
              "      <td>0.092891</td>\n",
              "      <td>0.01003</td>\n",
              "      <td>0.05153</td>\n",
              "      <td>0.002589</td>\n",
              "      <td>0.048889</td>\n",
              "      <td>0.008676</td>\n",
              "    </tr>\n",
              "    <tr>\n",
              "      <th>4</th>\n",
              "      <td>00017695ad8997eb</td>\n",
              "      <td>0.092891</td>\n",
              "      <td>0.01003</td>\n",
              "      <td>0.05153</td>\n",
              "      <td>0.002589</td>\n",
              "      <td>0.048889</td>\n",
              "      <td>0.008676</td>\n",
              "    </tr>\n",
              "  </tbody>\n",
              "</table>\n",
              "</div>\n",
              "      <button class=\"colab-df-convert\" onclick=\"convertToInteractive('df-4971f2a6-b56f-478b-8b2d-caaca1c12a52')\"\n",
              "              title=\"Convert this dataframe to an interactive table.\"\n",
              "              style=\"display:none;\">\n",
              "        \n",
              "  <svg xmlns=\"http://www.w3.org/2000/svg\" height=\"24px\"viewBox=\"0 0 24 24\"\n",
              "       width=\"24px\">\n",
              "    <path d=\"M0 0h24v24H0V0z\" fill=\"none\"/>\n",
              "    <path d=\"M18.56 5.44l.94 2.06.94-2.06 2.06-.94-2.06-.94-.94-2.06-.94 2.06-2.06.94zm-11 1L8.5 8.5l.94-2.06 2.06-.94-2.06-.94L8.5 2.5l-.94 2.06-2.06.94zm10 10l.94 2.06.94-2.06 2.06-.94-2.06-.94-.94-2.06-.94 2.06-2.06.94z\"/><path d=\"M17.41 7.96l-1.37-1.37c-.4-.4-.92-.59-1.43-.59-.52 0-1.04.2-1.43.59L10.3 9.45l-7.72 7.72c-.78.78-.78 2.05 0 2.83L4 21.41c.39.39.9.59 1.41.59.51 0 1.02-.2 1.41-.59l7.78-7.78 2.81-2.81c.8-.78.8-2.07 0-2.86zM5.41 20L4 18.59l7.72-7.72 1.47 1.35L5.41 20z\"/>\n",
              "  </svg>\n",
              "      </button>\n",
              "      \n",
              "  <style>\n",
              "    .colab-df-container {\n",
              "      display:flex;\n",
              "      flex-wrap:wrap;\n",
              "      gap: 12px;\n",
              "    }\n",
              "\n",
              "    .colab-df-convert {\n",
              "      background-color: #E8F0FE;\n",
              "      border: none;\n",
              "      border-radius: 50%;\n",
              "      cursor: pointer;\n",
              "      display: none;\n",
              "      fill: #1967D2;\n",
              "      height: 32px;\n",
              "      padding: 0 0 0 0;\n",
              "      width: 32px;\n",
              "    }\n",
              "\n",
              "    .colab-df-convert:hover {\n",
              "      background-color: #E2EBFA;\n",
              "      box-shadow: 0px 1px 2px rgba(60, 64, 67, 0.3), 0px 1px 3px 1px rgba(60, 64, 67, 0.15);\n",
              "      fill: #174EA6;\n",
              "    }\n",
              "\n",
              "    [theme=dark] .colab-df-convert {\n",
              "      background-color: #3B4455;\n",
              "      fill: #D2E3FC;\n",
              "    }\n",
              "\n",
              "    [theme=dark] .colab-df-convert:hover {\n",
              "      background-color: #434B5C;\n",
              "      box-shadow: 0px 1px 3px 1px rgba(0, 0, 0, 0.15);\n",
              "      filter: drop-shadow(0px 1px 2px rgba(0, 0, 0, 0.3));\n",
              "      fill: #FFFFFF;\n",
              "    }\n",
              "  </style>\n",
              "\n",
              "      <script>\n",
              "        const buttonEl =\n",
              "          document.querySelector('#df-4971f2a6-b56f-478b-8b2d-caaca1c12a52 button.colab-df-convert');\n",
              "        buttonEl.style.display =\n",
              "          google.colab.kernel.accessAllowed ? 'block' : 'none';\n",
              "\n",
              "        async function convertToInteractive(key) {\n",
              "          const element = document.querySelector('#df-4971f2a6-b56f-478b-8b2d-caaca1c12a52');\n",
              "          const dataTable =\n",
              "            await google.colab.kernel.invokeFunction('convertToInteractive',\n",
              "                                                     [key], {});\n",
              "          if (!dataTable) return;\n",
              "\n",
              "          const docLinkHtml = 'Like what you see? Visit the ' +\n",
              "            '<a target=\"_blank\" href=https://colab.research.google.com/notebooks/data_table.ipynb>data table notebook</a>'\n",
              "            + ' to learn more about interactive tables.';\n",
              "          element.innerHTML = '';\n",
              "          dataTable['output_type'] = 'display_data';\n",
              "          await google.colab.output.renderOutput(dataTable, element);\n",
              "          const docLink = document.createElement('div');\n",
              "          docLink.innerHTML = docLinkHtml;\n",
              "          element.appendChild(docLink);\n",
              "        }\n",
              "      </script>\n",
              "    </div>\n",
              "  </div>\n",
              "  "
            ]
          },
          "metadata": {},
          "execution_count": 41
        }
      ]
    },
    {
      "cell_type": "code",
      "source": [
        "\n",
        "\n",
        "model.save('tox_model.h5')"
      ],
      "metadata": {
        "execution": {
          "iopub.status.busy": "2022-12-22T10:29:46.996539Z",
          "iopub.execute_input": "2022-12-22T10:29:46.997281Z",
          "iopub.status.idle": "2022-12-22T10:29:47.681661Z",
          "shell.execute_reply.started": "2022-12-22T10:29:46.997242Z",
          "shell.execute_reply": "2022-12-22T10:29:47.680683Z"
        },
        "trusted": true,
        "id": "pfHZUmffIIYj"
      },
      "execution_count": null,
      "outputs": []
    },
    {
      "cell_type": "code",
      "source": [],
      "metadata": {
        "id": "Ez5ybFvzIIYk"
      },
      "execution_count": null,
      "outputs": []
    }
  ]
}